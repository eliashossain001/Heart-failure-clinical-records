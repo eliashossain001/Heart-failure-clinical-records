{
 "cells": [
  {
   "cell_type": "markdown",
   "metadata": {},
   "source": [
    "### Module section"
   ]
  },
  {
   "cell_type": "code",
   "execution_count": 66,
   "metadata": {},
   "outputs": [],
   "source": [
    "import pandas as pd\n",
    "import seaborn as sns\n",
    "import numpy as np\n",
    "import matplotlib.pyplot as plt \n",
    "%matplotlib inline\n",
    "import tensorflow as tf \n",
    "from tensorflow import keras \n",
    "\n",
    "from sklearn import metrics\n",
    "from sklearn.model_selection import train_test_split\n",
    "from sklearn.metrics import classification_report\n",
    "from sklearn.metrics import roc_auc_score\n",
    "from sklearn.metrics import roc_curve\n",
    "from sklearn.metrics import confusion_matrix,accuracy_score\n",
    "\n",
    "from sklearn.tree import DecisionTreeClassifier\n",
    "from sklearn.linear_model import LogisticRegression\n",
    "from sklearn.ensemble import AdaBoostClassifier\n",
    "from sklearn.ensemble import RandomForestClassifier\n",
    "from sklearn import svm\n",
    "from sklearn.naive_bayes import BernoulliNB\n",
    "from sklearn.naive_bayes import GaussianNB\n",
    "\n"
   ]
  },
  {
   "cell_type": "markdown",
   "metadata": {},
   "source": [
    "### Load the dataset "
   ]
  },
  {
   "cell_type": "code",
   "execution_count": 2,
   "metadata": {},
   "outputs": [
    {
     "data": {
      "text/html": [
       "<div>\n",
       "<style scoped>\n",
       "    .dataframe tbody tr th:only-of-type {\n",
       "        vertical-align: middle;\n",
       "    }\n",
       "\n",
       "    .dataframe tbody tr th {\n",
       "        vertical-align: top;\n",
       "    }\n",
       "\n",
       "    .dataframe thead th {\n",
       "        text-align: right;\n",
       "    }\n",
       "</style>\n",
       "<table border=\"1\" class=\"dataframe\">\n",
       "  <thead>\n",
       "    <tr style=\"text-align: right;\">\n",
       "      <th></th>\n",
       "      <th>age</th>\n",
       "      <th>anaemia</th>\n",
       "      <th>creatinine_phosphokinase</th>\n",
       "      <th>diabetes</th>\n",
       "      <th>ejection_fraction</th>\n",
       "      <th>high_blood_pressure</th>\n",
       "      <th>platelets</th>\n",
       "      <th>serum_creatinine</th>\n",
       "      <th>serum_sodium</th>\n",
       "      <th>sex</th>\n",
       "      <th>smoking</th>\n",
       "      <th>time</th>\n",
       "      <th>DEATH_EVENT</th>\n",
       "    </tr>\n",
       "  </thead>\n",
       "  <tbody>\n",
       "    <tr>\n",
       "      <td>0</td>\n",
       "      <td>75.0</td>\n",
       "      <td>0</td>\n",
       "      <td>582</td>\n",
       "      <td>0</td>\n",
       "      <td>20</td>\n",
       "      <td>1</td>\n",
       "      <td>265000.00</td>\n",
       "      <td>1.9</td>\n",
       "      <td>130</td>\n",
       "      <td>1</td>\n",
       "      <td>0</td>\n",
       "      <td>4</td>\n",
       "      <td>1</td>\n",
       "    </tr>\n",
       "    <tr>\n",
       "      <td>1</td>\n",
       "      <td>55.0</td>\n",
       "      <td>0</td>\n",
       "      <td>7861</td>\n",
       "      <td>0</td>\n",
       "      <td>38</td>\n",
       "      <td>0</td>\n",
       "      <td>263358.03</td>\n",
       "      <td>1.1</td>\n",
       "      <td>136</td>\n",
       "      <td>1</td>\n",
       "      <td>0</td>\n",
       "      <td>6</td>\n",
       "      <td>1</td>\n",
       "    </tr>\n",
       "    <tr>\n",
       "      <td>2</td>\n",
       "      <td>65.0</td>\n",
       "      <td>0</td>\n",
       "      <td>146</td>\n",
       "      <td>0</td>\n",
       "      <td>20</td>\n",
       "      <td>0</td>\n",
       "      <td>162000.00</td>\n",
       "      <td>1.3</td>\n",
       "      <td>129</td>\n",
       "      <td>1</td>\n",
       "      <td>1</td>\n",
       "      <td>7</td>\n",
       "      <td>1</td>\n",
       "    </tr>\n",
       "    <tr>\n",
       "      <td>3</td>\n",
       "      <td>50.0</td>\n",
       "      <td>1</td>\n",
       "      <td>111</td>\n",
       "      <td>0</td>\n",
       "      <td>20</td>\n",
       "      <td>0</td>\n",
       "      <td>210000.00</td>\n",
       "      <td>1.9</td>\n",
       "      <td>137</td>\n",
       "      <td>1</td>\n",
       "      <td>0</td>\n",
       "      <td>7</td>\n",
       "      <td>1</td>\n",
       "    </tr>\n",
       "    <tr>\n",
       "      <td>4</td>\n",
       "      <td>65.0</td>\n",
       "      <td>1</td>\n",
       "      <td>160</td>\n",
       "      <td>1</td>\n",
       "      <td>20</td>\n",
       "      <td>0</td>\n",
       "      <td>327000.00</td>\n",
       "      <td>2.7</td>\n",
       "      <td>116</td>\n",
       "      <td>0</td>\n",
       "      <td>0</td>\n",
       "      <td>8</td>\n",
       "      <td>1</td>\n",
       "    </tr>\n",
       "  </tbody>\n",
       "</table>\n",
       "</div>"
      ],
      "text/plain": [
       "    age  anaemia  creatinine_phosphokinase  diabetes  ejection_fraction  \\\n",
       "0  75.0        0                       582         0                 20   \n",
       "1  55.0        0                      7861         0                 38   \n",
       "2  65.0        0                       146         0                 20   \n",
       "3  50.0        1                       111         0                 20   \n",
       "4  65.0        1                       160         1                 20   \n",
       "\n",
       "   high_blood_pressure  platelets  serum_creatinine  serum_sodium  sex  \\\n",
       "0                    1  265000.00               1.9           130    1   \n",
       "1                    0  263358.03               1.1           136    1   \n",
       "2                    0  162000.00               1.3           129    1   \n",
       "3                    0  210000.00               1.9           137    1   \n",
       "4                    0  327000.00               2.7           116    0   \n",
       "\n",
       "   smoking  time  DEATH_EVENT  \n",
       "0        0     4            1  \n",
       "1        0     6            1  \n",
       "2        1     7            1  \n",
       "3        0     7            1  \n",
       "4        0     8            1  "
      ]
     },
     "execution_count": 2,
     "metadata": {},
     "output_type": "execute_result"
    }
   ],
   "source": [
    "df= pd.read_csv(\"C:/Users/elias/Desktop/Heart_failure/heart_failure.csv\")\n",
    "df.head()"
   ]
  },
  {
   "cell_type": "markdown",
   "metadata": {},
   "source": [
    "### There are some steps in a data science project that need to be followed. The following steps we will follow in our work:\n",
    "\n",
    "1. Data Cleaning & Pre processing \n",
    "2. Exploratory Data Analysis (EDA) \n",
    "3. Predictive Machine Learning Model Building \n",
    "4. Cross Validation & Hyperparameters optimization"
   ]
  },
  {
   "cell_type": "markdown",
   "metadata": {},
   "source": [
    "### 1. Data Preprocessing "
   ]
  },
  {
   "cell_type": "code",
   "execution_count": 3,
   "metadata": {},
   "outputs": [
    {
     "data": {
      "text/plain": [
       "age                         0\n",
       "anaemia                     0\n",
       "creatinine_phosphokinase    0\n",
       "diabetes                    0\n",
       "ejection_fraction           0\n",
       "high_blood_pressure         0\n",
       "platelets                   0\n",
       "serum_creatinine            0\n",
       "serum_sodium                0\n",
       "sex                         0\n",
       "smoking                     0\n",
       "time                        0\n",
       "DEATH_EVENT                 0\n",
       "dtype: int64"
      ]
     },
     "execution_count": 3,
     "metadata": {},
     "output_type": "execute_result"
    }
   ],
   "source": [
    "df.isnull().sum()"
   ]
  },
  {
   "cell_type": "markdown",
   "metadata": {},
   "source": [
    "#### NB: We don't have any missing value. The data has already been cleared"
   ]
  },
  {
   "cell_type": "code",
   "execution_count": 5,
   "metadata": {},
   "outputs": [
    {
     "data": {
      "text/plain": [
       "age                         float64\n",
       "anaemia                       int64\n",
       "creatinine_phosphokinase      int64\n",
       "diabetes                      int64\n",
       "ejection_fraction             int64\n",
       "high_blood_pressure           int64\n",
       "platelets                   float64\n",
       "serum_creatinine            float64\n",
       "serum_sodium                  int64\n",
       "sex                           int64\n",
       "smoking                       int64\n",
       "time                          int64\n",
       "DEATH_EVENT                   int64\n",
       "dtype: object"
      ]
     },
     "execution_count": 5,
     "metadata": {},
     "output_type": "execute_result"
    }
   ],
   "source": [
    "df.dtypes"
   ]
  },
  {
   "cell_type": "code",
   "execution_count": 4,
   "metadata": {},
   "outputs": [
    {
     "data": {
      "text/html": [
       "<div>\n",
       "<style scoped>\n",
       "    .dataframe tbody tr th:only-of-type {\n",
       "        vertical-align: middle;\n",
       "    }\n",
       "\n",
       "    .dataframe tbody tr th {\n",
       "        vertical-align: top;\n",
       "    }\n",
       "\n",
       "    .dataframe thead th {\n",
       "        text-align: right;\n",
       "    }\n",
       "</style>\n",
       "<table border=\"1\" class=\"dataframe\">\n",
       "  <thead>\n",
       "    <tr style=\"text-align: right;\">\n",
       "      <th></th>\n",
       "      <th>age</th>\n",
       "      <th>anaemia</th>\n",
       "      <th>creatinine_phosphokinase</th>\n",
       "      <th>diabetes</th>\n",
       "      <th>ejection_fraction</th>\n",
       "      <th>high_blood_pressure</th>\n",
       "      <th>platelets</th>\n",
       "      <th>serum_creatinine</th>\n",
       "      <th>serum_sodium</th>\n",
       "      <th>sex</th>\n",
       "      <th>smoking</th>\n",
       "      <th>time</th>\n",
       "      <th>DEATH_EVENT</th>\n",
       "    </tr>\n",
       "  </thead>\n",
       "  <tbody>\n",
       "    <tr>\n",
       "      <td>count</td>\n",
       "      <td>299.000000</td>\n",
       "      <td>299.000000</td>\n",
       "      <td>299.000000</td>\n",
       "      <td>299.000000</td>\n",
       "      <td>299.000000</td>\n",
       "      <td>299.000000</td>\n",
       "      <td>299.000000</td>\n",
       "      <td>299.00000</td>\n",
       "      <td>299.000000</td>\n",
       "      <td>299.000000</td>\n",
       "      <td>299.00000</td>\n",
       "      <td>299.000000</td>\n",
       "      <td>299.00000</td>\n",
       "    </tr>\n",
       "    <tr>\n",
       "      <td>mean</td>\n",
       "      <td>60.833893</td>\n",
       "      <td>0.431438</td>\n",
       "      <td>581.839465</td>\n",
       "      <td>0.418060</td>\n",
       "      <td>38.083612</td>\n",
       "      <td>0.351171</td>\n",
       "      <td>263358.029264</td>\n",
       "      <td>1.39388</td>\n",
       "      <td>136.625418</td>\n",
       "      <td>0.648829</td>\n",
       "      <td>0.32107</td>\n",
       "      <td>130.260870</td>\n",
       "      <td>0.32107</td>\n",
       "    </tr>\n",
       "    <tr>\n",
       "      <td>std</td>\n",
       "      <td>11.894809</td>\n",
       "      <td>0.496107</td>\n",
       "      <td>970.287881</td>\n",
       "      <td>0.494067</td>\n",
       "      <td>11.834841</td>\n",
       "      <td>0.478136</td>\n",
       "      <td>97804.236869</td>\n",
       "      <td>1.03451</td>\n",
       "      <td>4.412477</td>\n",
       "      <td>0.478136</td>\n",
       "      <td>0.46767</td>\n",
       "      <td>77.614208</td>\n",
       "      <td>0.46767</td>\n",
       "    </tr>\n",
       "    <tr>\n",
       "      <td>min</td>\n",
       "      <td>40.000000</td>\n",
       "      <td>0.000000</td>\n",
       "      <td>23.000000</td>\n",
       "      <td>0.000000</td>\n",
       "      <td>14.000000</td>\n",
       "      <td>0.000000</td>\n",
       "      <td>25100.000000</td>\n",
       "      <td>0.50000</td>\n",
       "      <td>113.000000</td>\n",
       "      <td>0.000000</td>\n",
       "      <td>0.00000</td>\n",
       "      <td>4.000000</td>\n",
       "      <td>0.00000</td>\n",
       "    </tr>\n",
       "    <tr>\n",
       "      <td>25%</td>\n",
       "      <td>51.000000</td>\n",
       "      <td>0.000000</td>\n",
       "      <td>116.500000</td>\n",
       "      <td>0.000000</td>\n",
       "      <td>30.000000</td>\n",
       "      <td>0.000000</td>\n",
       "      <td>212500.000000</td>\n",
       "      <td>0.90000</td>\n",
       "      <td>134.000000</td>\n",
       "      <td>0.000000</td>\n",
       "      <td>0.00000</td>\n",
       "      <td>73.000000</td>\n",
       "      <td>0.00000</td>\n",
       "    </tr>\n",
       "    <tr>\n",
       "      <td>50%</td>\n",
       "      <td>60.000000</td>\n",
       "      <td>0.000000</td>\n",
       "      <td>250.000000</td>\n",
       "      <td>0.000000</td>\n",
       "      <td>38.000000</td>\n",
       "      <td>0.000000</td>\n",
       "      <td>262000.000000</td>\n",
       "      <td>1.10000</td>\n",
       "      <td>137.000000</td>\n",
       "      <td>1.000000</td>\n",
       "      <td>0.00000</td>\n",
       "      <td>115.000000</td>\n",
       "      <td>0.00000</td>\n",
       "    </tr>\n",
       "    <tr>\n",
       "      <td>75%</td>\n",
       "      <td>70.000000</td>\n",
       "      <td>1.000000</td>\n",
       "      <td>582.000000</td>\n",
       "      <td>1.000000</td>\n",
       "      <td>45.000000</td>\n",
       "      <td>1.000000</td>\n",
       "      <td>303500.000000</td>\n",
       "      <td>1.40000</td>\n",
       "      <td>140.000000</td>\n",
       "      <td>1.000000</td>\n",
       "      <td>1.00000</td>\n",
       "      <td>203.000000</td>\n",
       "      <td>1.00000</td>\n",
       "    </tr>\n",
       "    <tr>\n",
       "      <td>max</td>\n",
       "      <td>95.000000</td>\n",
       "      <td>1.000000</td>\n",
       "      <td>7861.000000</td>\n",
       "      <td>1.000000</td>\n",
       "      <td>80.000000</td>\n",
       "      <td>1.000000</td>\n",
       "      <td>850000.000000</td>\n",
       "      <td>9.40000</td>\n",
       "      <td>148.000000</td>\n",
       "      <td>1.000000</td>\n",
       "      <td>1.00000</td>\n",
       "      <td>285.000000</td>\n",
       "      <td>1.00000</td>\n",
       "    </tr>\n",
       "  </tbody>\n",
       "</table>\n",
       "</div>"
      ],
      "text/plain": [
       "              age     anaemia  creatinine_phosphokinase    diabetes  \\\n",
       "count  299.000000  299.000000                299.000000  299.000000   \n",
       "mean    60.833893    0.431438                581.839465    0.418060   \n",
       "std     11.894809    0.496107                970.287881    0.494067   \n",
       "min     40.000000    0.000000                 23.000000    0.000000   \n",
       "25%     51.000000    0.000000                116.500000    0.000000   \n",
       "50%     60.000000    0.000000                250.000000    0.000000   \n",
       "75%     70.000000    1.000000                582.000000    1.000000   \n",
       "max     95.000000    1.000000               7861.000000    1.000000   \n",
       "\n",
       "       ejection_fraction  high_blood_pressure      platelets  \\\n",
       "count         299.000000           299.000000     299.000000   \n",
       "mean           38.083612             0.351171  263358.029264   \n",
       "std            11.834841             0.478136   97804.236869   \n",
       "min            14.000000             0.000000   25100.000000   \n",
       "25%            30.000000             0.000000  212500.000000   \n",
       "50%            38.000000             0.000000  262000.000000   \n",
       "75%            45.000000             1.000000  303500.000000   \n",
       "max            80.000000             1.000000  850000.000000   \n",
       "\n",
       "       serum_creatinine  serum_sodium         sex    smoking        time  \\\n",
       "count         299.00000    299.000000  299.000000  299.00000  299.000000   \n",
       "mean            1.39388    136.625418    0.648829    0.32107  130.260870   \n",
       "std             1.03451      4.412477    0.478136    0.46767   77.614208   \n",
       "min             0.50000    113.000000    0.000000    0.00000    4.000000   \n",
       "25%             0.90000    134.000000    0.000000    0.00000   73.000000   \n",
       "50%             1.10000    137.000000    1.000000    0.00000  115.000000   \n",
       "75%             1.40000    140.000000    1.000000    1.00000  203.000000   \n",
       "max             9.40000    148.000000    1.000000    1.00000  285.000000   \n",
       "\n",
       "       DEATH_EVENT  \n",
       "count    299.00000  \n",
       "mean       0.32107  \n",
       "std        0.46767  \n",
       "min        0.00000  \n",
       "25%        0.00000  \n",
       "50%        0.00000  \n",
       "75%        1.00000  \n",
       "max        1.00000  "
      ]
     },
     "execution_count": 4,
     "metadata": {},
     "output_type": "execute_result"
    }
   ],
   "source": [
    "df.describe(include='all')"
   ]
  },
  {
   "cell_type": "markdown",
   "metadata": {},
   "source": [
    "### 2. Exploratory Data Analysis (EDA)"
   ]
  },
  {
   "cell_type": "markdown",
   "metadata": {},
   "source": [
    "#### EDA 1:Visualize total SEX through Countplot "
   ]
  },
  {
   "cell_type": "code",
   "execution_count": 5,
   "metadata": {},
   "outputs": [
    {
     "data": {
      "image/png": "[encoded data removed]",
      "text/plain": [
       "<Figure size 432x288 with 1 Axes>"
      ]
     },
     "metadata": {
      "needs_background": "light"
     },
     "output_type": "display_data"
    }
   ],
   "source": [
    "plot = sns.countplot(df[\"sex\"])"
   ]
  },
  {
   "cell_type": "markdown",
   "metadata": {},
   "source": [
    "#### EDA 2: How many individuals have diabetes through smoking"
   ]
  },
  {
   "cell_type": "code",
   "execution_count": 6,
   "metadata": {},
   "outputs": [
    {
     "data": {
      "image/png": "[encoded data removed]",
      "text/plain": [
       "<Figure size 432x288 with 1 Axes>"
      ]
     },
     "metadata": {
      "needs_background": "light"
     },
     "output_type": "display_data"
    }
   ],
   "source": [
    "plot = sns.barplot(x=df[\"smoking\"], \n",
    "                   y=df[\"diabetes\"])"
   ]
  },
  {
   "cell_type": "markdown",
   "metadata": {},
   "source": [
    "#### EDA 3: How many Death Event based on the Smoking "
   ]
  },
  {
   "cell_type": "code",
   "execution_count": 7,
   "metadata": {},
   "outputs": [
    {
     "data": {
      "image/png": "[encoded data removed]",
      "text/plain": [
       "<Figure size 432x288 with 1 Axes>"
      ]
     },
     "metadata": {
      "needs_background": "light"
     },
     "output_type": "display_data"
    }
   ],
   "source": [
    " plot = sns.barplot(x=df[\"smoking\"], \n",
    "                   y=df[\"DEATH_EVENT\"])"
   ]
  },
  {
   "cell_type": "markdown",
   "metadata": {},
   "source": [
    "#### EDA 4: How many Death Event based on diabetes"
   ]
  },
  {
   "cell_type": "code",
   "execution_count": 8,
   "metadata": {},
   "outputs": [
    {
     "data": {
      "image/png": "[encoded data removed]",
      "text/plain": [
       "<Figure size 432x288 with 1 Axes>"
      ]
     },
     "metadata": {
      "needs_background": "light"
     },
     "output_type": "display_data"
    }
   ],
   "source": [
    "plot = sns.barplot(x=df[\"diabetes\"], \n",
    "                   y=df[\"DEATH_EVENT\"])"
   ]
  },
  {
   "cell_type": "markdown",
   "metadata": {},
   "source": [
    "#### EDA 5: Individuals age infected with diabetes "
   ]
  },
  {
   "cell_type": "code",
   "execution_count": 9,
   "metadata": {},
   "outputs": [
    {
     "data": {
      "image/png": "[encoded data removed]",
      "text/plain": [
       "<Figure size 432x288 with 1 Axes>"
      ]
     },
     "metadata": {
      "needs_background": "light"
     },
     "output_type": "display_data"
    }
   ],
   "source": [
    "plot = sns.barplot(x=df[\"age\"], \n",
    "                   y=df[\"diabetes\"])"
   ]
  },
  {
   "cell_type": "markdown",
   "metadata": {},
   "source": [
    "#### EDA 6: Heart failure based on the High Blood Pressure "
   ]
  },
  {
   "cell_type": "code",
   "execution_count": 10,
   "metadata": {},
   "outputs": [
    {
     "data": {
      "image/png": "[encoded data removed]",
      "text/plain": [
       "<Figure size 432x288 with 1 Axes>"
      ]
     },
     "metadata": {
      "needs_background": "light"
     },
     "output_type": "display_data"
    }
   ],
   "source": [
    "plot = sns.barplot(x=df[\"high_blood_pressure\"], \n",
    "                   y=df[\"DEATH_EVENT\"])"
   ]
  },
  {
   "cell_type": "markdown",
   "metadata": {},
   "source": [
    "#### EDA 7: Heart failure based on the anaemia"
   ]
  },
  {
   "cell_type": "code",
   "execution_count": 12,
   "metadata": {},
   "outputs": [
    {
     "data": {
      "image/png": "[encoded data removed]",
      "text/plain": [
       "<Figure size 432x288 with 1 Axes>"
      ]
     },
     "metadata": {
      "needs_background": "light"
     },
     "output_type": "display_data"
    }
   ],
   "source": [
    "plot = sns.barplot(x=df[\"anaemia\"], \n",
    "                   y=df[\"DEATH_EVENT\"])"
   ]
  },
  {
   "cell_type": "markdown",
   "metadata": {},
   "source": [
    "#### EDA 8: Visualize the Heart high_blood_pressure based on the serum_sodium"
   ]
  },
  {
   "cell_type": "code",
   "execution_count": 13,
   "metadata": {},
   "outputs": [
    {
     "data": {
      "image/png": "[encoded data removed]",
      "text/plain": [
       "<Figure size 432x288 with 1 Axes>"
      ]
     },
     "metadata": {
      "needs_background": "light"
     },
     "output_type": "display_data"
    }
   ],
   "source": [
    "plot = sns.barplot(x=df[\"serum_sodium\"], \n",
    "                   y=df[\"high_blood_pressure\"])"
   ]
  },
  {
   "cell_type": "markdown",
   "metadata": {},
   "source": [
    "#### EDA 9: #Let's see the Death Event based on the ejection fraction"
   ]
  },
  {
   "cell_type": "code",
   "execution_count": 14,
   "metadata": {},
   "outputs": [
    {
     "data": {
      "image/png": "[encoded data removed]",
      "text/plain": [
       "<Figure size 432x288 with 1 Axes>"
      ]
     },
     "metadata": {
      "needs_background": "light"
     },
     "output_type": "display_data"
    }
   ],
   "source": [
    "plot = sns.barplot(x=df[\"ejection_fraction\"], \n",
    "                   y=df[\"DEATH_EVENT\"])"
   ]
  },
  {
   "cell_type": "markdown",
   "metadata": {},
   "source": [
    "#### EDA 10: Let's find out the outlier in our dataset "
   ]
  },
  {
   "cell_type": "code",
   "execution_count": 15,
   "metadata": {},
   "outputs": [
    {
     "data": {
      "image/png": "[encoded data removed]",
      "text/plain": [
       "<Figure size 432x288 with 1 Axes>"
      ]
     },
     "metadata": {
      "needs_background": "light"
     },
     "output_type": "display_data"
    }
   ],
   "source": [
    "df.plot(kind='box')\n",
    "plt.show()"
   ]
  },
  {
   "cell_type": "markdown",
   "metadata": {},
   "source": [
    "#### NB: We have some outlier which we can observed in the box plot "
   ]
  },
  {
   "cell_type": "code",
   "execution_count": 16,
   "metadata": {},
   "outputs": [
    {
     "data": {
      "text/html": [
       "<div>\n",
       "<style scoped>\n",
       "    .dataframe tbody tr th:only-of-type {\n",
       "        vertical-align: middle;\n",
       "    }\n",
       "\n",
       "    .dataframe tbody tr th {\n",
       "        vertical-align: top;\n",
       "    }\n",
       "\n",
       "    .dataframe thead th {\n",
       "        text-align: right;\n",
       "    }\n",
       "</style>\n",
       "<table border=\"1\" class=\"dataframe\">\n",
       "  <thead>\n",
       "    <tr style=\"text-align: right;\">\n",
       "      <th></th>\n",
       "      <th>age</th>\n",
       "      <th>anaemia</th>\n",
       "      <th>creatinine_phosphokinase</th>\n",
       "      <th>diabetes</th>\n",
       "      <th>ejection_fraction</th>\n",
       "      <th>high_blood_pressure</th>\n",
       "      <th>platelets</th>\n",
       "      <th>serum_creatinine</th>\n",
       "      <th>serum_sodium</th>\n",
       "      <th>sex</th>\n",
       "      <th>smoking</th>\n",
       "      <th>time</th>\n",
       "      <th>DEATH_EVENT</th>\n",
       "    </tr>\n",
       "  </thead>\n",
       "  <tbody>\n",
       "    <tr>\n",
       "      <td>count</td>\n",
       "      <td>299.000000</td>\n",
       "      <td>299.000000</td>\n",
       "      <td>299.000000</td>\n",
       "      <td>299.000000</td>\n",
       "      <td>299.000000</td>\n",
       "      <td>299.000000</td>\n",
       "      <td>299.000000</td>\n",
       "      <td>299.00000</td>\n",
       "      <td>299.000000</td>\n",
       "      <td>299.000000</td>\n",
       "      <td>299.00000</td>\n",
       "      <td>299.000000</td>\n",
       "      <td>299.00000</td>\n",
       "    </tr>\n",
       "    <tr>\n",
       "      <td>mean</td>\n",
       "      <td>60.833893</td>\n",
       "      <td>0.431438</td>\n",
       "      <td>581.839465</td>\n",
       "      <td>0.418060</td>\n",
       "      <td>38.083612</td>\n",
       "      <td>0.351171</td>\n",
       "      <td>263358.029264</td>\n",
       "      <td>1.39388</td>\n",
       "      <td>136.625418</td>\n",
       "      <td>0.648829</td>\n",
       "      <td>0.32107</td>\n",
       "      <td>130.260870</td>\n",
       "      <td>0.32107</td>\n",
       "    </tr>\n",
       "    <tr>\n",
       "      <td>std</td>\n",
       "      <td>11.894809</td>\n",
       "      <td>0.496107</td>\n",
       "      <td>970.287881</td>\n",
       "      <td>0.494067</td>\n",
       "      <td>11.834841</td>\n",
       "      <td>0.478136</td>\n",
       "      <td>97804.236869</td>\n",
       "      <td>1.03451</td>\n",
       "      <td>4.412477</td>\n",
       "      <td>0.478136</td>\n",
       "      <td>0.46767</td>\n",
       "      <td>77.614208</td>\n",
       "      <td>0.46767</td>\n",
       "    </tr>\n",
       "    <tr>\n",
       "      <td>min</td>\n",
       "      <td>40.000000</td>\n",
       "      <td>0.000000</td>\n",
       "      <td>23.000000</td>\n",
       "      <td>0.000000</td>\n",
       "      <td>14.000000</td>\n",
       "      <td>0.000000</td>\n",
       "      <td>25100.000000</td>\n",
       "      <td>0.50000</td>\n",
       "      <td>113.000000</td>\n",
       "      <td>0.000000</td>\n",
       "      <td>0.00000</td>\n",
       "      <td>4.000000</td>\n",
       "      <td>0.00000</td>\n",
       "    </tr>\n",
       "    <tr>\n",
       "      <td>25%</td>\n",
       "      <td>51.000000</td>\n",
       "      <td>0.000000</td>\n",
       "      <td>116.500000</td>\n",
       "      <td>0.000000</td>\n",
       "      <td>30.000000</td>\n",
       "      <td>0.000000</td>\n",
       "      <td>212500.000000</td>\n",
       "      <td>0.90000</td>\n",
       "      <td>134.000000</td>\n",
       "      <td>0.000000</td>\n",
       "      <td>0.00000</td>\n",
       "      <td>73.000000</td>\n",
       "      <td>0.00000</td>\n",
       "    </tr>\n",
       "    <tr>\n",
       "      <td>50%</td>\n",
       "      <td>60.000000</td>\n",
       "      <td>0.000000</td>\n",
       "      <td>250.000000</td>\n",
       "      <td>0.000000</td>\n",
       "      <td>38.000000</td>\n",
       "      <td>0.000000</td>\n",
       "      <td>262000.000000</td>\n",
       "      <td>1.10000</td>\n",
       "      <td>137.000000</td>\n",
       "      <td>1.000000</td>\n",
       "      <td>0.00000</td>\n",
       "      <td>115.000000</td>\n",
       "      <td>0.00000</td>\n",
       "    </tr>\n",
       "    <tr>\n",
       "      <td>75%</td>\n",
       "      <td>70.000000</td>\n",
       "      <td>1.000000</td>\n",
       "      <td>582.000000</td>\n",
       "      <td>1.000000</td>\n",
       "      <td>45.000000</td>\n",
       "      <td>1.000000</td>\n",
       "      <td>303500.000000</td>\n",
       "      <td>1.40000</td>\n",
       "      <td>140.000000</td>\n",
       "      <td>1.000000</td>\n",
       "      <td>1.00000</td>\n",
       "      <td>203.000000</td>\n",
       "      <td>1.00000</td>\n",
       "    </tr>\n",
       "    <tr>\n",
       "      <td>max</td>\n",
       "      <td>95.000000</td>\n",
       "      <td>1.000000</td>\n",
       "      <td>7861.000000</td>\n",
       "      <td>1.000000</td>\n",
       "      <td>80.000000</td>\n",
       "      <td>1.000000</td>\n",
       "      <td>850000.000000</td>\n",
       "      <td>9.40000</td>\n",
       "      <td>148.000000</td>\n",
       "      <td>1.000000</td>\n",
       "      <td>1.00000</td>\n",
       "      <td>285.000000</td>\n",
       "      <td>1.00000</td>\n",
       "    </tr>\n",
       "  </tbody>\n",
       "</table>\n",
       "</div>"
      ],
      "text/plain": [
       "              age     anaemia  creatinine_phosphokinase    diabetes  \\\n",
       "count  299.000000  299.000000                299.000000  299.000000   \n",
       "mean    60.833893    0.431438                581.839465    0.418060   \n",
       "std     11.894809    0.496107                970.287881    0.494067   \n",
       "min     40.000000    0.000000                 23.000000    0.000000   \n",
       "25%     51.000000    0.000000                116.500000    0.000000   \n",
       "50%     60.000000    0.000000                250.000000    0.000000   \n",
       "75%     70.000000    1.000000                582.000000    1.000000   \n",
       "max     95.000000    1.000000               7861.000000    1.000000   \n",
       "\n",
       "       ejection_fraction  high_blood_pressure      platelets  \\\n",
       "count         299.000000           299.000000     299.000000   \n",
       "mean           38.083612             0.351171  263358.029264   \n",
       "std            11.834841             0.478136   97804.236869   \n",
       "min            14.000000             0.000000   25100.000000   \n",
       "25%            30.000000             0.000000  212500.000000   \n",
       "50%            38.000000             0.000000  262000.000000   \n",
       "75%            45.000000             1.000000  303500.000000   \n",
       "max            80.000000             1.000000  850000.000000   \n",
       "\n",
       "       serum_creatinine  serum_sodium         sex    smoking        time  \\\n",
       "count         299.00000    299.000000  299.000000  299.00000  299.000000   \n",
       "mean            1.39388    136.625418    0.648829    0.32107  130.260870   \n",
       "std             1.03451      4.412477    0.478136    0.46767   77.614208   \n",
       "min             0.50000    113.000000    0.000000    0.00000    4.000000   \n",
       "25%             0.90000    134.000000    0.000000    0.00000   73.000000   \n",
       "50%             1.10000    137.000000    1.000000    0.00000  115.000000   \n",
       "75%             1.40000    140.000000    1.000000    1.00000  203.000000   \n",
       "max             9.40000    148.000000    1.000000    1.00000  285.000000   \n",
       "\n",
       "       DEATH_EVENT  \n",
       "count    299.00000  \n",
       "mean       0.32107  \n",
       "std        0.46767  \n",
       "min        0.00000  \n",
       "25%        0.00000  \n",
       "50%        0.00000  \n",
       "75%        1.00000  \n",
       "max        1.00000  "
      ]
     },
     "execution_count": 16,
     "metadata": {},
     "output_type": "execute_result"
    }
   ],
   "source": [
    "df.describe(include='all')"
   ]
  },
  {
   "cell_type": "code",
   "execution_count": 17,
   "metadata": {},
   "outputs": [
    {
     "data": {
      "image/png": "[encoded data removed]",
      "text/plain": [
       "<Figure size 1080x432 with 1 Axes>"
      ]
     },
     "metadata": {
      "needs_background": "light"
     },
     "output_type": "display_data"
    }
   ],
   "source": [
    "plt.figure(figsize=(15,6))\n",
    "\n",
    "plot = sns.lineplot(x=df[\"age\"],\n",
    "                    y=df[\"DEATH_EVENT\"])"
   ]
  },
  {
   "cell_type": "markdown",
   "metadata": {},
   "source": [
    "#### EDA 11: Find out the outlier for each"
   ]
  },
  {
   "cell_type": "code",
   "execution_count": 18,
   "metadata": {},
   "outputs": [
    {
     "data": {
      "image/png": "[encoded data removed]",
      "text/plain": [
       "<Figure size 432x288 with 1 Axes>"
      ]
     },
     "metadata": {
      "needs_background": "light"
     },
     "output_type": "display_data"
    }
   ],
   "source": [
    "df['age'].plot(kind='box')\n",
    "plt.show()"
   ]
  },
  {
   "cell_type": "code",
   "execution_count": 19,
   "metadata": {},
   "outputs": [
    {
     "data": {
      "image/png": "[encoded data removed]",
      "text/plain": [
       "<Figure size 432x288 with 1 Axes>"
      ]
     },
     "metadata": {
      "needs_background": "light"
     },
     "output_type": "display_data"
    }
   ],
   "source": [
    "df['sex'].plot(kind='box')\n",
    "plt.show()"
   ]
  },
  {
   "cell_type": "code",
   "execution_count": 20,
   "metadata": {},
   "outputs": [
    {
     "data": {
      "image/png": "[encoded data removed]",
      "text/plain": [
       "<Figure size 432x288 with 1 Axes>"
      ]
     },
     "metadata": {
      "needs_background": "light"
     },
     "output_type": "display_data"
    }
   ],
   "source": [
    "df['high_blood_pressure'].plot(kind='box')\n",
    "plt.show()"
   ]
  },
  {
   "cell_type": "code",
   "execution_count": 21,
   "metadata": {},
   "outputs": [
    {
     "data": {
      "image/png": "[encoded data removed]",
      "text/plain": [
       "<Figure size 432x288 with 1 Axes>"
      ]
     },
     "metadata": {
      "needs_background": "light"
     },
     "output_type": "display_data"
    }
   ],
   "source": [
    "df['diabetes'].plot(kind='box')\n",
    "plt.show()"
   ]
  },
  {
   "cell_type": "markdown",
   "metadata": {},
   "source": [
    "#### EDA 12: Let's find out the Normal Distribution for each variable \n",
    "\n",
    "In probability theory, a normal distribution is a type of continuous probability distribution for a real-valued random variable"
   ]
  },
  {
   "cell_type": "code",
   "execution_count": 22,
   "metadata": {},
   "outputs": [
    {
     "data": {
      "image/png": "[encoded data removed]",
      "text/plain": [
       "<Figure size 432x288 with 1 Axes>"
      ]
     },
     "metadata": {
      "needs_background": "light"
     },
     "output_type": "display_data"
    }
   ],
   "source": [
    "plot = sns.distplot(df[\"age\"],\n",
    "                    hist=True)"
   ]
  },
  {
   "cell_type": "code",
   "execution_count": 23,
   "metadata": {},
   "outputs": [
    {
     "data": {
      "image/png": "[encoded data removed]",
      "text/plain": [
       "<Figure size 432x288 with 1 Axes>"
      ]
     },
     "metadata": {
      "needs_background": "light"
     },
     "output_type": "display_data"
    }
   ],
   "source": [
    "plot = sns.distplot(df[\"diabetes\"],\n",
    "                    hist=True)"
   ]
  },
  {
   "cell_type": "code",
   "execution_count": 24,
   "metadata": {},
   "outputs": [
    {
     "data": {
      "image/png": "[encoded data removed]",
      "text/plain": [
       "<Figure size 432x288 with 1 Axes>"
      ]
     },
     "metadata": {
      "needs_background": "light"
     },
     "output_type": "display_data"
    }
   ],
   "source": [
    "plot = sns.distplot(df[\"high_blood_pressure\"],\n",
    "                    hist=True)"
   ]
  },
  {
   "cell_type": "code",
   "execution_count": 25,
   "metadata": {},
   "outputs": [
    {
     "data": {
      "image/png": "[encoded data removed]",
      "text/plain": [
       "<Figure size 432x288 with 1 Axes>"
      ]
     },
     "metadata": {
      "needs_background": "light"
     },
     "output_type": "display_data"
    }
   ],
   "source": [
    "plot = sns.distplot(df[\"serum_creatinine\"],\n",
    "                    hist=True)"
   ]
  },
  {
   "cell_type": "code",
   "execution_count": 26,
   "metadata": {},
   "outputs": [
    {
     "data": {
      "image/png": "[encoded data removed]",
      "text/plain": [
       "<Figure size 432x288 with 1 Axes>"
      ]
     },
     "metadata": {
      "needs_background": "light"
     },
     "output_type": "display_data"
    }
   ],
   "source": [
    "plot = sns.distplot(df[\"creatinine_phosphokinase\"],\n",
    "                    hist=True)"
   ]
  },
  {
   "cell_type": "code",
   "execution_count": 27,
   "metadata": {},
   "outputs": [
    {
     "data": {
      "image/png": "[encoded data removed]",
      "text/plain": [
       "<Figure size 432x288 with 1 Axes>"
      ]
     },
     "metadata": {
      "needs_background": "light"
     },
     "output_type": "display_data"
    }
   ],
   "source": [
    "plot = sns.distplot(df[\"smoking\"],\n",
    "                    hist=True)"
   ]
  },
  {
   "cell_type": "markdown",
   "metadata": {},
   "source": [
    "### 3. Machine Learning Model "
   ]
  },
  {
   "cell_type": "markdown",
   "metadata": {},
   "source": [
    "#### Define the input and target features "
   ]
  },
  {
   "cell_type": "code",
   "execution_count": 28,
   "metadata": {},
   "outputs": [],
   "source": [
    "model_input= df.drop('DEATH_EVENT', axis='columns')\n",
    "model_target= df['DEATH_EVENT']\n"
   ]
  },
  {
   "cell_type": "markdown",
   "metadata": {},
   "source": [
    "#### Train Test Split "
   ]
  },
  {
   "cell_type": "code",
   "execution_count": 29,
   "metadata": {},
   "outputs": [],
   "source": [
    "X_train, X_test, y_train, y_test= train_test_split(model_input, model_target, test_size=0.2, random_state=4)"
   ]
  },
  {
   "cell_type": "markdown",
   "metadata": {},
   "source": [
    "#### Apply Logistic Regression Algorithm "
   ]
  },
  {
   "cell_type": "code",
   "execution_count": 30,
   "metadata": {},
   "outputs": [
    {
     "name": "stderr",
     "output_type": "stream",
     "text": [
      "C:\\Users\\elias\\Anaconda3\\lib\\site-packages\\sklearn\\linear_model\\logistic.py:432: FutureWarning: Default solver will be changed to 'lbfgs' in 0.22. Specify a solver to silence this warning.\n",
      "  FutureWarning)\n"
     ]
    },
    {
     "data": {
      "text/plain": [
       "LogisticRegression(C=1.0, class_weight=None, dual=False, fit_intercept=True,\n",
       "                   intercept_scaling=1, l1_ratio=None, max_iter=100,\n",
       "                   multi_class='warn', n_jobs=None, penalty='l2',\n",
       "                   random_state=None, solver='warn', tol=0.0001, verbose=0,\n",
       "                   warm_start=False)"
      ]
     },
     "execution_count": 30,
     "metadata": {},
     "output_type": "execute_result"
    }
   ],
   "source": [
    "logistic_regression= LogisticRegression()\n",
    "logistic_regression.fit(X_train, y_train)"
   ]
  },
  {
   "cell_type": "markdown",
   "metadata": {},
   "source": [
    "#### Calculate Model Score "
   ]
  },
  {
   "cell_type": "code",
   "execution_count": 31,
   "metadata": {},
   "outputs": [
    {
     "data": {
      "text/plain": [
       "0.8333333333333334"
      ]
     },
     "execution_count": 31,
     "metadata": {},
     "output_type": "execute_result"
    }
   ],
   "source": [
    "logistic_regression.score(X_test, y_test)"
   ]
  },
  {
   "cell_type": "markdown",
   "metadata": {},
   "source": [
    "#### Classificaton Report "
   ]
  },
  {
   "cell_type": "code",
   "execution_count": 32,
   "metadata": {},
   "outputs": [
    {
     "name": "stdout",
     "output_type": "stream",
     "text": [
      "Coefficients: [[ 3.31822636e-02  2.23450898e-04  2.08112680e-04  4.57293282e-04\n",
      "  -3.98584997e-02 -1.15807590e-04 -1.33442349e-06  5.19636162e-03\n",
      "   8.38241220e-03  1.83237320e-04 -5.09356461e-05 -1.98553669e-02]]\n",
      "Intercept: [0.0001697]\n",
      "Classification Report:\n",
      "               precision    recall  f1-score   support\n",
      "\n",
      "           0       0.88      0.88      0.88        42\n",
      "           1       0.72      0.72      0.72        18\n",
      "\n",
      "    accuracy                           0.83        60\n",
      "   macro avg       0.80      0.80      0.80        60\n",
      "weighted avg       0.83      0.83      0.83        60\n",
      "\n",
      "Confusion Matrix:\n",
      " [[37  5]\n",
      " [ 5 13]]\n",
      "Accuracy Score: 0.8333333333333334\n",
      "Precision: 0.7222222222222222\n",
      "Recall: 0.7222222222222222\n"
     ]
    }
   ],
   "source": [
    "print('Coefficients:', logistic_regression.coef_)\n",
    "print('Intercept:', logistic_regression.intercept_)\n",
    " \n",
    "predictions = logistic_regression.predict(X_test)\n",
    "print('Classification Report:\\n',classification_report(y_test, predictions))\n",
    "\n",
    "print('Confusion Matrix:\\n',confusion_matrix(y_test, predictions))\n",
    "print('Accuracy Score:',accuracy_score(y_test, predictions))\n",
    "print(\"Precision:\",metrics.precision_score(y_test, predictions))\n",
    "print(\"Recall:\",metrics.recall_score(y_test,predictions ))"
   ]
  },
  {
   "cell_type": "markdown",
   "metadata": {},
   "source": [
    "#### NB: We can clearly see that our model predict 83% accurately. "
   ]
  },
  {
   "cell_type": "markdown",
   "metadata": {},
   "source": [
    "#### Visualize the Confusion Matrix "
   ]
  },
  {
   "cell_type": "code",
   "execution_count": 53,
   "metadata": {},
   "outputs": [
    {
     "data": {
      "image/png": "[encoded data removed]",
      "text/plain": [
       "<Figure size 432x288 with 2 Axes>"
      ]
     },
     "metadata": {
      "needs_background": "light"
     },
     "output_type": "display_data"
    }
   ],
   "source": [
    "class_names=[0,1] # name  of classes\n",
    "fig, ax = plt.subplots()\n",
    "tick_marks = np.arange(len(class_names))\n",
    "plt.xticks(tick_marks, class_names)\n",
    "plt.yticks(tick_marks, class_names)\n",
    "###create heatmap\n",
    "sns.heatmap(pd.DataFrame(confusion_matrix(y_test, predictions)), annot=True, cmap=\"YlGnBu\" ,fmt='g')\n",
    "ax.xaxis.set_label_position(\"top\")\n",
    "plt.tight_layout()\n",
    "plt.title('LR Confusion matrix', y=1.1)\n",
    "plt.ylabel('Actual label')\n",
    "plt.xlabel('Predicted label')\n",
    "plt.show()"
   ]
  },
  {
   "cell_type": "markdown",
   "metadata": {},
   "source": [
    "#### ROC-AUC Curve "
   ]
  },
  {
   "cell_type": "markdown",
   "metadata": {},
   "source": [
    "Another way to determine how good the performance of different classification models is the ROC-AUC curve. ROC stands for Receiver Operating Curve and AUC stands for Area Under Curve. The blue line in the picture below is ROC, and the space below this ROC is AUC. The higher the value of ROC i.e. the closer the blue line goes to the top (1), the better our model is."
   ]
  },
  {
   "cell_type": "code",
   "execution_count": 34,
   "metadata": {},
   "outputs": [
    {
     "data": {
      "image/png": "[encoded data removed]",
      "text/plain": [
       "<Figure size 432x288 with 1 Axes>"
      ]
     },
     "metadata": {
      "needs_background": "light"
     },
     "output_type": "display_data"
    }
   ],
   "source": [
    "logit_roc_auc = roc_auc_score(y_test, logistic_regression.predict(X_test))\n",
    "fpr, tpr, thresholds = roc_curve(y_test, logistic_regression.predict_proba(X_test)[:,1])\n",
    "plt.figure()\n",
    "plt.plot(fpr, tpr, label='Logistic Regression (area = %0.2f)' % logit_roc_auc)\n",
    "plt.plot([0, 1], [0, 1],'r--')\n",
    "plt.xlim([0.0, 1.0])\n",
    "plt.ylim([0.0, 1.05])\n",
    "plt.xlabel('False Positive Rate')\n",
    "plt.ylabel('True Positive Rate')\n",
    "plt.title('Receiver operating characteristic (ROC)')\n",
    "plt.legend(loc=\"lower right\")\n",
    "plt.savefig('Log_ROC')\n",
    "plt.show()"
   ]
  },
  {
   "cell_type": "markdown",
   "metadata": {},
   "source": [
    "Let's predict"
   ]
  },
  {
   "cell_type": "code",
   "execution_count": 35,
   "metadata": {},
   "outputs": [
    {
     "data": {
      "text/html": [
       "<div>\n",
       "<style scoped>\n",
       "    .dataframe tbody tr th:only-of-type {\n",
       "        vertical-align: middle;\n",
       "    }\n",
       "\n",
       "    .dataframe tbody tr th {\n",
       "        vertical-align: top;\n",
       "    }\n",
       "\n",
       "    .dataframe thead th {\n",
       "        text-align: right;\n",
       "    }\n",
       "</style>\n",
       "<table border=\"1\" class=\"dataframe\">\n",
       "  <thead>\n",
       "    <tr style=\"text-align: right;\">\n",
       "      <th></th>\n",
       "      <th>age</th>\n",
       "      <th>anaemia</th>\n",
       "      <th>creatinine_phosphokinase</th>\n",
       "      <th>diabetes</th>\n",
       "      <th>ejection_fraction</th>\n",
       "      <th>high_blood_pressure</th>\n",
       "      <th>platelets</th>\n",
       "      <th>serum_creatinine</th>\n",
       "      <th>serum_sodium</th>\n",
       "      <th>sex</th>\n",
       "      <th>smoking</th>\n",
       "      <th>time</th>\n",
       "      <th>DEATH_EVENT</th>\n",
       "    </tr>\n",
       "  </thead>\n",
       "  <tbody>\n",
       "    <tr>\n",
       "      <td>0</td>\n",
       "      <td>75.0</td>\n",
       "      <td>0</td>\n",
       "      <td>582</td>\n",
       "      <td>0</td>\n",
       "      <td>20</td>\n",
       "      <td>1</td>\n",
       "      <td>265000.00</td>\n",
       "      <td>1.9</td>\n",
       "      <td>130</td>\n",
       "      <td>1</td>\n",
       "      <td>0</td>\n",
       "      <td>4</td>\n",
       "      <td>1</td>\n",
       "    </tr>\n",
       "    <tr>\n",
       "      <td>1</td>\n",
       "      <td>55.0</td>\n",
       "      <td>0</td>\n",
       "      <td>7861</td>\n",
       "      <td>0</td>\n",
       "      <td>38</td>\n",
       "      <td>0</td>\n",
       "      <td>263358.03</td>\n",
       "      <td>1.1</td>\n",
       "      <td>136</td>\n",
       "      <td>1</td>\n",
       "      <td>0</td>\n",
       "      <td>6</td>\n",
       "      <td>1</td>\n",
       "    </tr>\n",
       "    <tr>\n",
       "      <td>2</td>\n",
       "      <td>65.0</td>\n",
       "      <td>0</td>\n",
       "      <td>146</td>\n",
       "      <td>0</td>\n",
       "      <td>20</td>\n",
       "      <td>0</td>\n",
       "      <td>162000.00</td>\n",
       "      <td>1.3</td>\n",
       "      <td>129</td>\n",
       "      <td>1</td>\n",
       "      <td>1</td>\n",
       "      <td>7</td>\n",
       "      <td>1</td>\n",
       "    </tr>\n",
       "    <tr>\n",
       "      <td>3</td>\n",
       "      <td>50.0</td>\n",
       "      <td>1</td>\n",
       "      <td>111</td>\n",
       "      <td>0</td>\n",
       "      <td>20</td>\n",
       "      <td>0</td>\n",
       "      <td>210000.00</td>\n",
       "      <td>1.9</td>\n",
       "      <td>137</td>\n",
       "      <td>1</td>\n",
       "      <td>0</td>\n",
       "      <td>7</td>\n",
       "      <td>1</td>\n",
       "    </tr>\n",
       "    <tr>\n",
       "      <td>4</td>\n",
       "      <td>65.0</td>\n",
       "      <td>1</td>\n",
       "      <td>160</td>\n",
       "      <td>1</td>\n",
       "      <td>20</td>\n",
       "      <td>0</td>\n",
       "      <td>327000.00</td>\n",
       "      <td>2.7</td>\n",
       "      <td>116</td>\n",
       "      <td>0</td>\n",
       "      <td>0</td>\n",
       "      <td>8</td>\n",
       "      <td>1</td>\n",
       "    </tr>\n",
       "  </tbody>\n",
       "</table>\n",
       "</div>"
      ],
      "text/plain": [
       "    age  anaemia  creatinine_phosphokinase  diabetes  ejection_fraction  \\\n",
       "0  75.0        0                       582         0                 20   \n",
       "1  55.0        0                      7861         0                 38   \n",
       "2  65.0        0                       146         0                 20   \n",
       "3  50.0        1                       111         0                 20   \n",
       "4  65.0        1                       160         1                 20   \n",
       "\n",
       "   high_blood_pressure  platelets  serum_creatinine  serum_sodium  sex  \\\n",
       "0                    1  265000.00               1.9           130    1   \n",
       "1                    0  263358.03               1.1           136    1   \n",
       "2                    0  162000.00               1.3           129    1   \n",
       "3                    0  210000.00               1.9           137    1   \n",
       "4                    0  327000.00               2.7           116    0   \n",
       "\n",
       "   smoking  time  DEATH_EVENT  \n",
       "0        0     4            1  \n",
       "1        0     6            1  \n",
       "2        1     7            1  \n",
       "3        0     7            1  \n",
       "4        0     8            1  "
      ]
     },
     "execution_count": 35,
     "metadata": {},
     "output_type": "execute_result"
    }
   ],
   "source": [
    "df.head()"
   ]
  },
  {
   "cell_type": "code",
   "execution_count": 36,
   "metadata": {
    "scrolled": true
   },
   "outputs": [
    {
     "data": {
      "text/plain": [
       "array([1], dtype=int64)"
      ]
     },
     "execution_count": 36,
     "metadata": {},
     "output_type": "execute_result"
    }
   ],
   "source": [
    "new_observation = [[75.0, 0, 583, 1, 21, 1,265000.00,1.8,129,0,1,5]]\n",
    "logistic_regression.predict(new_observation)"
   ]
  },
  {
   "cell_type": "markdown",
   "metadata": {},
   "source": [
    "Here our observation predicts array([1] which means is the patient heart could be failed."
   ]
  },
  {
   "cell_type": "markdown",
   "metadata": {},
   "source": [
    "#### Apply DecisionTree Classifier "
   ]
  },
  {
   "cell_type": "code",
   "execution_count": 37,
   "metadata": {},
   "outputs": [
    {
     "data": {
      "text/plain": [
       "DecisionTreeClassifier(class_weight=None, criterion='gini', max_depth=None,\n",
       "                       max_features=None, max_leaf_nodes=None,\n",
       "                       min_impurity_decrease=0.0, min_impurity_split=None,\n",
       "                       min_samples_leaf=1, min_samples_split=2,\n",
       "                       min_weight_fraction_leaf=0.0, presort=False,\n",
       "                       random_state=None, splitter='best')"
      ]
     },
     "execution_count": 37,
     "metadata": {},
     "output_type": "execute_result"
    }
   ],
   "source": [
    "decision_tree= DecisionTreeClassifier()\n",
    "decision_tree.fit(X_train, y_train)"
   ]
  },
  {
   "cell_type": "markdown",
   "metadata": {},
   "source": [
    "#### Classification Report of DecisionTree"
   ]
  },
  {
   "cell_type": "code",
   "execution_count": 38,
   "metadata": {},
   "outputs": [
    {
     "name": "stdout",
     "output_type": "stream",
     "text": [
      "Classification Report:\n",
      "               precision    recall  f1-score   support\n",
      "\n",
      "           0       0.82      0.86      0.84        42\n",
      "           1       0.62      0.56      0.59        18\n",
      "\n",
      "    accuracy                           0.77        60\n",
      "   macro avg       0.72      0.71      0.71        60\n",
      "weighted avg       0.76      0.77      0.76        60\n",
      "\n",
      "Confusion Matrix:\n",
      " [[36  6]\n",
      " [ 8 10]]\n",
      "Accuracy Score: 0.7666666666666667\n",
      "Precision: 0.625\n",
      "Recall: 0.5555555555555556\n"
     ]
    }
   ],
   "source": [
    "#print('Coefficients:', decision_tree.coef_)\n",
    "#print('Intercept:', decision_tree.intercept_)\n",
    " \n",
    "predictions = decision_tree.predict(X_test)\n",
    "print('Classification Report:\\n',classification_report(y_test, predictions))\n",
    "\n",
    "print('Confusion Matrix:\\n',confusion_matrix(y_test, predictions))\n",
    "print('Accuracy Score:',accuracy_score(y_test, predictions))\n",
    "print(\"Precision:\",metrics.precision_score(y_test, predictions))\n",
    "print(\"Recall:\",metrics.recall_score(y_test,predictions ))"
   ]
  },
  {
   "cell_type": "markdown",
   "metadata": {},
   "source": [
    "#### ROC-AUC Curve for DecisionTree Classifier "
   ]
  },
  {
   "cell_type": "code",
   "execution_count": 39,
   "metadata": {},
   "outputs": [
    {
     "data": {
      "image/png": "[encoded data removed]",
      "text/plain": [
       "<Figure size 432x288 with 1 Axes>"
      ]
     },
     "metadata": {
      "needs_background": "light"
     },
     "output_type": "display_data"
    }
   ],
   "source": [
    "decision_roc_auc = roc_auc_score(y_test, decision_tree.predict(X_test))\n",
    "fpr, tpr, thresholds = roc_curve(y_test, decision_tree.predict_proba(X_test)[:,1])\n",
    "plt.figure()\n",
    "plt.plot(fpr, tpr, label='DecisionTree Classifier (area = %0.2f)' % decision_roc_auc)\n",
    "plt.plot([0, 1], [0, 1],'r--')\n",
    "plt.xlim([0.0, 1.0])\n",
    "plt.ylim([0.0, 1.05])\n",
    "plt.xlabel('False Positive Rate')\n",
    "plt.ylabel('True Positive Rate')\n",
    "plt.title('Receiver operating characteristic (ROC)')\n",
    "plt.legend(loc=\"lower right\")\n",
    "plt.savefig('Dec_ROC')\n",
    "plt.show()"
   ]
  },
  {
   "cell_type": "markdown",
   "metadata": {},
   "source": [
    "#### Apply RandomForestClassifier"
   ]
  },
  {
   "cell_type": "code",
   "execution_count": 40,
   "metadata": {},
   "outputs": [
    {
     "data": {
      "text/plain": [
       "RandomForestClassifier(bootstrap=True, class_weight=None, criterion='gini',\n",
       "                       max_depth=5, max_features='auto', max_leaf_nodes=None,\n",
       "                       min_impurity_decrease=0.0, min_impurity_split=None,\n",
       "                       min_samples_leaf=1, min_samples_split=2,\n",
       "                       min_weight_fraction_leaf=0.0, n_estimators=10,\n",
       "                       n_jobs=None, oob_score=False, random_state=0, verbose=0,\n",
       "                       warm_start=False)"
      ]
     },
     "execution_count": 40,
     "metadata": {},
     "output_type": "execute_result"
    }
   ],
   "source": [
    "random_forest= RandomForestClassifier(n_estimators=10, max_depth=5, random_state=0)\n",
    "random_forest.fit(X_train, y_train)"
   ]
  },
  {
   "cell_type": "markdown",
   "metadata": {},
   "source": [
    "#### Classification Report "
   ]
  },
  {
   "cell_type": "code",
   "execution_count": 41,
   "metadata": {},
   "outputs": [
    {
     "name": "stdout",
     "output_type": "stream",
     "text": [
      "Classification Report:\n",
      "               precision    recall  f1-score   support\n",
      "\n",
      "           0       0.81      0.93      0.87        42\n",
      "           1       0.75      0.50      0.60        18\n",
      "\n",
      "    accuracy                           0.80        60\n",
      "   macro avg       0.78      0.71      0.73        60\n",
      "weighted avg       0.79      0.80      0.79        60\n",
      "\n",
      "Confusion Matrix:\n",
      " [[39  3]\n",
      " [ 9  9]]\n",
      "Accuracy Score: 0.8\n",
      "Precision: 0.75\n",
      "Recall: 0.5\n"
     ]
    }
   ],
   "source": [
    "#print('Coefficients:', random_forest.coef_)\n",
    "#print('Intercept:', random_forest.intercept_)\n",
    " \n",
    "predictions = random_forest.predict(X_test)\n",
    "print('Classification Report:\\n',classification_report(y_test, predictions))\n",
    "\n",
    "print('Confusion Matrix:\\n',confusion_matrix(y_test, predictions))\n",
    "print('Accuracy Score:',accuracy_score(y_test, predictions))\n",
    "print(\"Precision:\",metrics.precision_score(y_test, predictions))\n",
    "print(\"Recall:\",metrics.recall_score(y_test,predictions ))"
   ]
  },
  {
   "cell_type": "markdown",
   "metadata": {},
   "source": [
    "#### ROC-AUC Curve for RandomForest Classifier  "
   ]
  },
  {
   "cell_type": "code",
   "execution_count": 42,
   "metadata": {},
   "outputs": [
    {
     "data": {
      "image/png": "[encoded data removed]",
      "text/plain": [
       "<Figure size 432x288 with 1 Axes>"
      ]
     },
     "metadata": {
      "needs_background": "light"
     },
     "output_type": "display_data"
    }
   ],
   "source": [
    "ranfor_roc_auc = roc_auc_score(y_test, decision_tree.predict(X_test))\n",
    "fpr, tpr, thresholds = roc_curve(y_test, random_forest.predict_proba(X_test)[:,1])\n",
    "plt.figure()\n",
    "plt.plot(fpr, tpr, label='RandomForest Classifier (area = %0.2f)' % ranfor_roc_auc)\n",
    "plt.plot([0, 1], [0, 1],'r--')\n",
    "plt.xlim([0.0, 1.0])\n",
    "plt.ylim([0.0, 1.05])\n",
    "plt.xlabel('False Positive Rate')\n",
    "plt.ylabel('True Positive Rate')\n",
    "plt.title('Receiver operating characteristic (ROC)')\n",
    "plt.legend(loc=\"lower right\")\n",
    "plt.savefig('Ranfor_ROC')\n",
    "plt.show()"
   ]
  },
  {
   "cell_type": "markdown",
   "metadata": {},
   "source": [
    "#### Apply Support Vector Machine (SVM)"
   ]
  },
  {
   "cell_type": "code",
   "execution_count": 43,
   "metadata": {},
   "outputs": [
    {
     "name": "stderr",
     "output_type": "stream",
     "text": [
      "C:\\Users\\elias\\Anaconda3\\lib\\site-packages\\sklearn\\svm\\base.py:193: FutureWarning: The default value of gamma will change from 'auto' to 'scale' in version 0.22 to account better for unscaled features. Set gamma explicitly to 'auto' or 'scale' to avoid this warning.\n",
      "  \"avoid this warning.\", FutureWarning)\n"
     ]
    },
    {
     "data": {
      "text/plain": [
       "SVC(C=1.0, cache_size=200, class_weight=None, coef0=0.0,\n",
       "    decision_function_shape='ovr', degree=3, gamma='auto_deprecated',\n",
       "    kernel='rbf', max_iter=-1, probability=False, random_state=None,\n",
       "    shrinking=True, tol=0.001, verbose=False)"
      ]
     },
     "execution_count": 43,
     "metadata": {},
     "output_type": "execute_result"
    }
   ],
   "source": [
    "support_vector= svm.SVC(kernel='rbf')\n",
    "support_vector.fit(X_train, y_train)"
   ]
  },
  {
   "cell_type": "markdown",
   "metadata": {},
   "source": [
    "#### Classification Matrix"
   ]
  },
  {
   "cell_type": "code",
   "execution_count": 45,
   "metadata": {},
   "outputs": [
    {
     "name": "stdout",
     "output_type": "stream",
     "text": [
      "              precision    recall  f1-score   support\n",
      "\n",
      "           0       0.70      1.00      0.82        42\n",
      "           1       0.00      0.00      0.00        18\n",
      "\n",
      "    accuracy                           0.70        60\n",
      "   macro avg       0.35      0.50      0.41        60\n",
      "weighted avg       0.49      0.70      0.58        60\n",
      "\n",
      "\n",
      "Accuracy: 0.7000\n",
      "[[42  0]\n",
      " [18  0]]\n"
     ]
    },
    {
     "name": "stderr",
     "output_type": "stream",
     "text": [
      "C:\\Users\\elias\\Anaconda3\\lib\\site-packages\\sklearn\\metrics\\classification.py:1437: UndefinedMetricWarning: Precision and F-score are ill-defined and being set to 0.0 in labels with no predicted samples.\n",
      "  'precision', 'predicted', average, warn_for)\n"
     ]
    }
   ],
   "source": [
    "pred=support_vector.predict(X_test)\n",
    "print(classification_report(y_test, pred))\n",
    "print('\\nAccuracy: {0:.4f}'.format(accuracy_score(y_test, pred)))\n",
    "print(confusion_matrix(y_test,pred))"
   ]
  },
  {
   "cell_type": "markdown",
   "metadata": {},
   "source": [
    "#### Visualize the SVM Confusion Matrix "
   ]
  },
  {
   "cell_type": "code",
   "execution_count": 52,
   "metadata": {},
   "outputs": [
    {
     "data": {
      "image/png": "[encoded data removed]",
      "text/plain": [
       "<Figure size 432x288 with 2 Axes>"
      ]
     },
     "metadata": {
      "needs_background": "light"
     },
     "output_type": "display_data"
    }
   ],
   "source": [
    "class_names=[0,1] # name  of classes\n",
    "fig, ax = plt.subplots()\n",
    "tick_marks = np.arange(len(class_names))\n",
    "plt.xticks(tick_marks, class_names)\n",
    "plt.yticks(tick_marks, class_names)\n",
    "###create heatmap\n",
    "sns.heatmap(pd.DataFrame(confusion_matrix(y_test, pred)), annot=True, cmap=\"YlGnBu\" ,fmt='g')\n",
    "ax.xaxis.set_label_position(\"top\")\n",
    "plt.tight_layout()\n",
    "plt.title('SVM Confusion matrix', y=1.1)\n",
    "plt.ylabel('Actual label')\n",
    "plt.xlabel('Predicted label')\n",
    "plt.show()"
   ]
  },
  {
   "cell_type": "markdown",
   "metadata": {},
   "source": [
    "#### Apply Naive Bayes Algorithm "
   ]
  },
  {
   "cell_type": "code",
   "execution_count": 58,
   "metadata": {},
   "outputs": [
    {
     "data": {
      "text/plain": [
       "GaussianNB(priors=None, var_smoothing=1e-09)"
      ]
     },
     "execution_count": 58,
     "metadata": {},
     "output_type": "execute_result"
    }
   ],
   "source": [
    "naive_bayes= GaussianNB()\n",
    "naive_bayes.fit(X_train, y_train)"
   ]
  },
  {
   "cell_type": "markdown",
   "metadata": {},
   "source": [
    "#### Classification Matrix for Naive bayes (BernoulliNB)"
   ]
  },
  {
   "cell_type": "code",
   "execution_count": 59,
   "metadata": {},
   "outputs": [
    {
     "name": "stdout",
     "output_type": "stream",
     "text": [
      "              precision    recall  f1-score   support\n",
      "\n",
      "           0       0.80      0.95      0.87        42\n",
      "           1       0.80      0.44      0.57        18\n",
      "\n",
      "    accuracy                           0.80        60\n",
      "   macro avg       0.80      0.70      0.72        60\n",
      "weighted avg       0.80      0.80      0.78        60\n",
      "\n",
      "\n",
      "Accuracy: 0.8000\n",
      "[[40  2]\n",
      " [10  8]]\n"
     ]
    }
   ],
   "source": [
    "naive_pred=naive_bayes.predict(X_test)\n",
    "print(classification_report(y_test, naive_pred))\n",
    "print('\\nAccuracy: {0:.4f}'.format(accuracy_score(y_test, naive_pred)))\n",
    "print(confusion_matrix(y_test,naive_pred))"
   ]
  },
  {
   "cell_type": "markdown",
   "metadata": {},
   "source": [
    "#### Confusion Matrix for the Naive Bayes"
   ]
  },
  {
   "cell_type": "code",
   "execution_count": 60,
   "metadata": {},
   "outputs": [
    {
     "data": {
      "image/png": "[encoded data removed]",
      "text/plain": [
       "<Figure size 432x288 with 2 Axes>"
      ]
     },
     "metadata": {
      "needs_background": "light"
     },
     "output_type": "display_data"
    }
   ],
   "source": [
    "class_names=[0,1] # name  of classes\n",
    "fig, ax = plt.subplots()\n",
    "tick_marks = np.arange(len(class_names))\n",
    "plt.xticks(tick_marks, class_names)\n",
    "plt.yticks(tick_marks, class_names)\n",
    "###create heatmap\n",
    "sns.heatmap(pd.DataFrame(confusion_matrix(y_test, naive_pred)), annot=True, cmap=\"YlGnBu\" ,fmt='g')\n",
    "ax.xaxis.set_label_position(\"top\")\n",
    "plt.tight_layout()\n",
    "plt.title('Naive Bayes Confusion matrix', y=1.1)\n",
    "plt.ylabel('Actual label')\n",
    "plt.xlabel('Predicted label')\n",
    "plt.show()"
   ]
  },
  {
   "cell_type": "markdown",
   "metadata": {},
   "source": [
    "#### ROC-AUC Curve for Naive Bayes"
   ]
  },
  {
   "cell_type": "code",
   "execution_count": 61,
   "metadata": {},
   "outputs": [
    {
     "data": {
      "image/png": "[encoded data removed]",
      "text/plain": [
       "<Figure size 432x288 with 1 Axes>"
      ]
     },
     "metadata": {
      "needs_background": "light"
     },
     "output_type": "display_data"
    }
   ],
   "source": [
    "naive_roc_auc = roc_auc_score(y_test, naive_bayes.predict(X_test))\n",
    "fpr, tpr, thresholds = roc_curve(y_test, naive_bayes.predict_proba(X_test)[:,1])\n",
    "plt.figure()\n",
    "plt.plot(fpr, tpr, label='Naive Bayes Classifier (area = %0.2f)' % naive_roc_auc)\n",
    "plt.plot([0, 1], [0, 1],'r--')\n",
    "plt.xlim([0.0, 1.0])\n",
    "plt.ylim([0.0, 1.05])\n",
    "plt.xlabel('False Positive Rate')\n",
    "plt.ylabel('True Positive Rate')\n",
    "plt.title('Receiver operating characteristic (ROC)')\n",
    "plt.legend(loc=\"lower right\")\n",
    "plt.savefig('Ranfor_ROC')\n",
    "plt.show()"
   ]
  },
  {
   "cell_type": "markdown",
   "metadata": {},
   "source": [
    "#### Apply Adaptive Boosting Algorithm "
   ]
  },
  {
   "cell_type": "code",
   "execution_count": 62,
   "metadata": {},
   "outputs": [
    {
     "data": {
      "text/plain": [
       "AdaBoostClassifier(algorithm='SAMME.R', base_estimator=None, learning_rate=1,\n",
       "                   n_estimators=150, random_state=None)"
      ]
     },
     "execution_count": 62,
     "metadata": {},
     "output_type": "execute_result"
    }
   ],
   "source": [
    "adaModel = AdaBoostClassifier(n_estimators=150,learning_rate=1)\n",
    "adaModel.fit(X_train, y_train)"
   ]
  },
  {
   "cell_type": "markdown",
   "metadata": {},
   "source": [
    "#### Classification Report "
   ]
  },
  {
   "cell_type": "code",
   "execution_count": 63,
   "metadata": {},
   "outputs": [
    {
     "name": "stdout",
     "output_type": "stream",
     "text": [
      "              precision    recall  f1-score   support\n",
      "\n",
      "           0       0.89      0.81      0.85        42\n",
      "           1       0.64      0.78      0.70        18\n",
      "\n",
      "    accuracy                           0.80        60\n",
      "   macro avg       0.77      0.79      0.78        60\n",
      "weighted avg       0.82      0.80      0.81        60\n",
      "\n",
      "\n",
      "Accuracy: 0.8000\n",
      "[[34  8]\n",
      " [ 4 14]]\n"
     ]
    }
   ],
   "source": [
    "ada_pred=adaModel.predict(X_test)\n",
    "print(classification_report(y_test, ada_pred))\n",
    "print('\\nAccuracy: {0:.4f}'.format(accuracy_score(y_test, ada_pred)))\n",
    "print(confusion_matrix(y_test,ada_pred))"
   ]
  },
  {
   "cell_type": "markdown",
   "metadata": {},
   "source": [
    "#### Feature Importance "
   ]
  },
  {
   "cell_type": "markdown",
   "metadata": {},
   "source": [
    "Another important function of Boosting is 'Feature Importance', this function allows you to know which feature variables are more important for the model. In this method, it is calculated which feature is used to reduce the impurity and those features are given more importance."
   ]
  },
  {
   "cell_type": "code",
   "execution_count": 65,
   "metadata": {},
   "outputs": [
    {
     "data": {
      "image/png": "[encoded data removed]",
      "text/plain": [
       "<Figure size 432x288 with 1 Axes>"
      ]
     },
     "metadata": {
      "needs_background": "light"
     },
     "output_type": "display_data"
    }
   ],
   "source": [
    "feature_importance = adaModel.feature_importances_\n",
    "\n",
    "# make importances relative to max importance\n",
    "feature_importance = 100.0 * (feature_importance / feature_importance.max())\n",
    "sorted_idx = np.argsort(feature_importance)\n",
    "pos = np.arange(sorted_idx.shape[0]) + .5\n",
    "plt.barh(pos, feature_importance[sorted_idx], align='center')\n",
    "plt.yticks(pos,model_input.columns[sorted_idx])\n",
    "plt.xlabel('Relative Importance')\n",
    "plt.title('Variable Importance')\n",
    "plt.show()"
   ]
  },
  {
   "cell_type": "markdown",
   "metadata": {},
   "source": [
    "### Apply Artificial Neural Network"
   ]
  },
  {
   "cell_type": "code",
   "execution_count": 87,
   "metadata": {},
   "outputs": [],
   "source": [
    "model = tf.keras.Sequential([\n",
    "   tf.keras.layers.Dense(1, input_shape=[12], activation='linear')\n",
    "])"
   ]
  },
  {
   "cell_type": "markdown",
   "metadata": {},
   "source": [
    "### Compile the Artificial Neural Network Model"
   ]
  },
  {
   "cell_type": "code",
   "execution_count": 88,
   "metadata": {},
   "outputs": [],
   "source": [
    "model.compile(optimizer='sgd',\n",
    "              loss='mean_squared_error',\n",
    "             metrics=['accuracy'])"
   ]
  },
  {
   "cell_type": "code",
   "execution_count": 89,
   "metadata": {},
   "outputs": [
    {
     "name": "stdout",
     "output_type": "stream",
     "text": [
      "Train on 239 samples\n",
      "Epoch 1/500\n",
      "239/239 [==============================] - 0s 2ms/sample - loss: nan - accuracy: 0.4895       \n",
      "Epoch 2/500\n",
      "239/239 [==============================] - 0s 54us/sample - loss: nan - accuracy: 0.6736\n",
      "Epoch 3/500\n",
      "239/239 [==============================] - 0s 54us/sample - loss: nan - accuracy: 0.6736\n",
      "Epoch 4/500\n",
      "239/239 [==============================] - 0s 54us/sample - loss: nan - accuracy: 0.6736\n",
      "Epoch 5/500\n",
      "239/239 [==============================] - 0s 96us/sample - loss: nan - accuracy: 0.6736\n",
      "Epoch 6/500\n",
      "239/239 [==============================] - 0s 58us/sample - loss: nan - accuracy: 0.6736\n",
      "Epoch 7/500\n",
      "239/239 [==============================] - 0s 58us/sample - loss: nan - accuracy: 0.6736\n",
      "Epoch 8/500\n",
      "239/239 [==============================] - 0s 96us/sample - loss: nan - accuracy: 0.6736\n",
      "Epoch 9/500\n",
      "239/239 [==============================] - 0s 54us/sample - loss: nan - accuracy: 0.6736\n",
      "Epoch 10/500\n",
      "239/239 [==============================] - 0s 58us/sample - loss: nan - accuracy: 0.6736\n",
      "Epoch 11/500\n",
      "239/239 [==============================] - 0s 62us/sample - loss: nan - accuracy: 0.6736\n",
      "Epoch 12/500\n",
      "239/239 [==============================] - 0s 104us/sample - loss: nan - accuracy: 0.6736\n",
      "Epoch 13/500\n",
      "239/239 [==============================] - 0s 58us/sample - loss: nan - accuracy: 0.6736\n",
      "Epoch 14/500\n",
      "239/239 [==============================] - 0s 54us/sample - loss: nan - accuracy: 0.6736\n",
      "Epoch 15/500\n",
      "239/239 [==============================] - 0s 113us/sample - loss: nan - accuracy: 0.6736\n",
      "Epoch 16/500\n",
      "239/239 [==============================] - 0s 58us/sample - loss: nan - accuracy: 0.6736\n",
      "Epoch 17/500\n",
      "239/239 [==============================] - 0s 58us/sample - loss: nan - accuracy: 0.6736\n",
      "Epoch 18/500\n",
      "239/239 [==============================] - 0s 100us/sample - loss: nan - accuracy: 0.6736\n",
      "Epoch 19/500\n",
      "239/239 [==============================] - 0s 63us/sample - loss: nan - accuracy: 0.6736\n",
      "Epoch 20/500\n",
      "239/239 [==============================] - 0s 58us/sample - loss: nan - accuracy: 0.6736\n",
      "Epoch 21/500\n",
      "239/239 [==============================] - 0s 92us/sample - loss: nan - accuracy: 0.6736\n",
      "Epoch 22/500\n",
      "239/239 [==============================] - 0s 63us/sample - loss: nan - accuracy: 0.6736\n",
      "Epoch 23/500\n",
      "239/239 [==============================] - 0s 63us/sample - loss: nan - accuracy: 0.6736\n",
      "Epoch 24/500\n",
      "239/239 [==============================] - 0s 58us/sample - loss: nan - accuracy: 0.6736\n",
      "Epoch 25/500\n",
      "239/239 [==============================] - 0s 100us/sample - loss: nan - accuracy: 0.6736\n",
      "Epoch 26/500\n",
      "239/239 [==============================] - 0s 63us/sample - loss: nan - accuracy: 0.6736\n",
      "Epoch 27/500\n",
      "239/239 [==============================] - 0s 58us/sample - loss: nan - accuracy: 0.6736\n",
      "Epoch 28/500\n",
      "239/239 [==============================] - 0s 71us/sample - loss: nan - accuracy: 0.6736\n",
      "Epoch 29/500\n",
      "239/239 [==============================] - 0s 100us/sample - loss: nan - accuracy: 0.6736\n",
      "Epoch 30/500\n",
      "239/239 [==============================] - 0s 50us/sample - loss: nan - accuracy: 0.6736\n",
      "Epoch 31/500\n",
      "239/239 [==============================] - 0s 54us/sample - loss: nan - accuracy: 0.6736\n",
      "Epoch 32/500\n",
      "239/239 [==============================] - 0s 67us/sample - loss: nan - accuracy: 0.6736\n",
      "Epoch 33/500\n",
      "239/239 [==============================] - 0s 92us/sample - loss: nan - accuracy: 0.6736\n",
      "Epoch 34/500\n",
      "239/239 [==============================] - 0s 54us/sample - loss: nan - accuracy: 0.6736\n",
      "Epoch 35/500\n",
      "239/239 [==============================] - 0s 54us/sample - loss: nan - accuracy: 0.6736\n",
      "Epoch 36/500\n",
      "239/239 [==============================] - 0s 79us/sample - loss: nan - accuracy: 0.6736\n",
      "Epoch 37/500\n",
      "239/239 [==============================] - 0s 67us/sample - loss: nan - accuracy: 0.6736\n",
      "Epoch 38/500\n",
      "239/239 [==============================] - 0s 50us/sample - loss: nan - accuracy: 0.6736\n",
      "Epoch 39/500\n",
      "239/239 [==============================] - 0s 58us/sample - loss: nan - accuracy: 0.6736\n",
      "Epoch 40/500\n",
      "239/239 [==============================] - 0s 129us/sample - loss: nan - accuracy: 0.6736\n",
      "Epoch 41/500\n",
      "239/239 [==============================] - 0s 50us/sample - loss: nan - accuracy: 0.6736\n",
      "Epoch 42/500\n",
      "239/239 [==============================] - 0s 54us/sample - loss: nan - accuracy: 0.6736\n",
      "Epoch 43/500\n",
      "239/239 [==============================] - 0s 58us/sample - loss: nan - accuracy: 0.6736\n",
      "Epoch 44/500\n",
      "239/239 [==============================] - 0s 100us/sample - loss: nan - accuracy: 0.6736\n",
      "Epoch 45/500\n",
      "239/239 [==============================] - 0s 58us/sample - loss: nan - accuracy: 0.6736\n",
      "Epoch 46/500\n",
      "239/239 [==============================] - 0s 58us/sample - loss: nan - accuracy: 0.6736\n",
      "Epoch 47/500\n",
      "239/239 [==============================] - 0s 63us/sample - loss: nan - accuracy: 0.6736\n",
      "Epoch 48/500\n",
      "239/239 [==============================] - 0s 100us/sample - loss: nan - accuracy: 0.6736\n",
      "Epoch 49/500\n",
      "239/239 [==============================] - 0s 58us/sample - loss: nan - accuracy: 0.6736\n",
      "Epoch 50/500\n",
      "239/239 [==============================] - 0s 67us/sample - loss: nan - accuracy: 0.6736\n",
      "Epoch 51/500\n",
      "239/239 [==============================] - 0s 79us/sample - loss: nan - accuracy: 0.6736\n",
      "Epoch 52/500\n",
      "239/239 [==============================] - 0s 121us/sample - loss: nan - accuracy: 0.6736\n",
      "Epoch 53/500\n",
      "239/239 [==============================] - 0s 63us/sample - loss: nan - accuracy: 0.6736\n",
      "Epoch 54/500\n",
      "239/239 [==============================] - 0s 58us/sample - loss: nan - accuracy: 0.6736\n",
      "Epoch 55/500\n",
      "239/239 [==============================] - 0s 67us/sample - loss: nan - accuracy: 0.6736\n",
      "Epoch 56/500\n",
      "239/239 [==============================] - 0s 96us/sample - loss: nan - accuracy: 0.6736\n",
      "Epoch 57/500\n",
      "239/239 [==============================] - 0s 63us/sample - loss: nan - accuracy: 0.6736\n",
      "Epoch 58/500\n",
      "239/239 [==============================] - 0s 63us/sample - loss: nan - accuracy: 0.6736\n",
      "Epoch 59/500\n",
      "239/239 [==============================] - 0s 54us/sample - loss: nan - accuracy: 0.6736\n",
      "Epoch 60/500\n",
      "239/239 [==============================] - 0s 109us/sample - loss: nan - accuracy: 0.6736\n",
      "Epoch 61/500\n",
      "239/239 [==============================] - 0s 58us/sample - loss: nan - accuracy: 0.6736\n",
      "Epoch 62/500\n",
      "239/239 [==============================] - 0s 67us/sample - loss: nan - accuracy: 0.6736\n",
      "Epoch 63/500\n",
      "239/239 [==============================] - 0s 88us/sample - loss: nan - accuracy: 0.6736\n",
      "Epoch 64/500\n",
      "239/239 [==============================] - 0s 75us/sample - loss: nan - accuracy: 0.6736\n",
      "Epoch 65/500\n",
      "239/239 [==============================] - 0s 129us/sample - loss: nan - accuracy: 0.6736\n",
      "Epoch 66/500\n",
      "239/239 [==============================] - 0s 104us/sample - loss: nan - accuracy: 0.6736\n",
      "Epoch 67/500\n",
      "239/239 [==============================] - 0s 130us/sample - loss: nan - accuracy: 0.6736\n",
      "Epoch 68/500\n",
      "239/239 [==============================] - 0s 63us/sample - loss: nan - accuracy: 0.6736\n",
      "Epoch 69/500\n",
      "239/239 [==============================] - 0s 96us/sample - loss: nan - accuracy: 0.6736\n",
      "Epoch 70/500\n",
      "239/239 [==============================] - 0s 88us/sample - loss: nan - accuracy: 0.6736\n",
      "Epoch 71/500\n",
      "239/239 [==============================] - 0s 113us/sample - loss: nan - accuracy: 0.6736\n",
      "Epoch 72/500\n",
      "239/239 [==============================] - 0s 92us/sample - loss: nan - accuracy: 0.6736\n",
      "Epoch 73/500\n",
      "239/239 [==============================] - 0s 83us/sample - loss: nan - accuracy: 0.6736\n",
      "Epoch 74/500\n",
      "239/239 [==============================] - 0s 63us/sample - loss: nan - accuracy: 0.6736\n",
      "Epoch 75/500\n",
      "239/239 [==============================] - 0s 121us/sample - loss: nan - accuracy: 0.6736\n",
      "Epoch 76/500\n",
      "239/239 [==============================] - 0s 75us/sample - loss: nan - accuracy: 0.6736\n",
      "Epoch 77/500\n",
      "239/239 [==============================] - 0s 75us/sample - loss: nan - accuracy: 0.6736\n",
      "Epoch 78/500\n",
      "239/239 [==============================] - 0s 58us/sample - loss: nan - accuracy: 0.6736\n",
      "Epoch 79/500\n",
      "239/239 [==============================] - 0s 100us/sample - loss: nan - accuracy: 0.6736\n",
      "Epoch 80/500\n",
      "239/239 [==============================] - 0s 100us/sample - loss: nan - accuracy: 0.6736\n"
     ]
    },
    {
     "name": "stdout",
     "output_type": "stream",
     "text": [
      "Epoch 81/500\n",
      "239/239 [==============================] - 0s 67us/sample - loss: nan - accuracy: 0.6736\n",
      "Epoch 82/500\n",
      "239/239 [==============================] - 0s 88us/sample - loss: nan - accuracy: 0.6736\n",
      "Epoch 83/500\n",
      "239/239 [==============================] - 0s 75us/sample - loss: nan - accuracy: 0.6736\n",
      "Epoch 84/500\n",
      "239/239 [==============================] - 0s 71us/sample - loss: nan - accuracy: 0.6736\n",
      "Epoch 85/500\n",
      "239/239 [==============================] - 0s 96us/sample - loss: nan - accuracy: 0.6736\n",
      "Epoch 86/500\n",
      "239/239 [==============================] - 0s 96us/sample - loss: nan - accuracy: 0.6736\n",
      "Epoch 87/500\n",
      "239/239 [==============================] - 0s 104us/sample - loss: nan - accuracy: 0.6736\n",
      "Epoch 88/500\n",
      "239/239 [==============================] - 0s 96us/sample - loss: nan - accuracy: 0.6736\n",
      "Epoch 89/500\n",
      "239/239 [==============================] - 0s 100us/sample - loss: nan - accuracy: 0.6736\n",
      "Epoch 90/500\n",
      "239/239 [==============================] - 0s 88us/sample - loss: nan - accuracy: 0.6736\n",
      "Epoch 91/500\n",
      "239/239 [==============================] - 0s 83us/sample - loss: nan - accuracy: 0.6736\n",
      "Epoch 92/500\n",
      "239/239 [==============================] - 0s 79us/sample - loss: nan - accuracy: 0.6736\n",
      "Epoch 93/500\n",
      "239/239 [==============================] - 0s 88us/sample - loss: nan - accuracy: 0.6736\n",
      "Epoch 94/500\n",
      "239/239 [==============================] - 0s 96us/sample - loss: nan - accuracy: 0.6736\n",
      "Epoch 95/500\n",
      "239/239 [==============================] - 0s 79us/sample - loss: nan - accuracy: 0.6736\n",
      "Epoch 96/500\n",
      "239/239 [==============================] - 0s 100us/sample - loss: nan - accuracy: 0.6736\n",
      "Epoch 97/500\n",
      "239/239 [==============================] - 0s 79us/sample - loss: nan - accuracy: 0.6736\n",
      "Epoch 98/500\n",
      "239/239 [==============================] - 0s 79us/sample - loss: nan - accuracy: 0.6736\n",
      "Epoch 99/500\n",
      "239/239 [==============================] - 0s 79us/sample - loss: nan - accuracy: 0.6736\n",
      "Epoch 100/500\n",
      "239/239 [==============================] - 0s 96us/sample - loss: nan - accuracy: 0.6736\n",
      "Epoch 101/500\n",
      "239/239 [==============================] - 0s 100us/sample - loss: nan - accuracy: 0.6736\n",
      "Epoch 102/500\n",
      "239/239 [==============================] - 0s 92us/sample - loss: nan - accuracy: 0.6736\n",
      "Epoch 103/500\n",
      "239/239 [==============================] - 0s 92us/sample - loss: nan - accuracy: 0.6736\n",
      "Epoch 104/500\n",
      "239/239 [==============================] - 0s 79us/sample - loss: nan - accuracy: 0.6736\n",
      "Epoch 105/500\n",
      "239/239 [==============================] - 0s 108us/sample - loss: nan - accuracy: 0.6736\n",
      "Epoch 106/500\n",
      "239/239 [==============================] - 0s 100us/sample - loss: nan - accuracy: 0.6736\n",
      "Epoch 107/500\n",
      "239/239 [==============================] - 0s 79us/sample - loss: nan - accuracy: 0.6736\n",
      "Epoch 108/500\n",
      "239/239 [==============================] - 0s 88us/sample - loss: nan - accuracy: 0.6736\n",
      "Epoch 109/500\n",
      "239/239 [==============================] - 0s 71us/sample - loss: nan - accuracy: 0.6736\n",
      "Epoch 110/500\n",
      "239/239 [==============================] - 0s 79us/sample - loss: nan - accuracy: 0.6736\n",
      "Epoch 111/500\n",
      "239/239 [==============================] - 0s 88us/sample - loss: nan - accuracy: 0.6736\n",
      "Epoch 112/500\n",
      "239/239 [==============================] - 0s 63us/sample - loss: nan - accuracy: 0.6736\n",
      "Epoch 113/500\n",
      "239/239 [==============================] - 0s 88us/sample - loss: nan - accuracy: 0.6736\n",
      "Epoch 114/500\n",
      "239/239 [==============================] - 0s 71us/sample - loss: nan - accuracy: 0.6736\n",
      "Epoch 115/500\n",
      "239/239 [==============================] - 0s 79us/sample - loss: nan - accuracy: 0.6736\n",
      "Epoch 116/500\n",
      "239/239 [==============================] - 0s 83us/sample - loss: nan - accuracy: 0.6736\n",
      "Epoch 117/500\n",
      "239/239 [==============================] - 0s 100us/sample - loss: nan - accuracy: 0.6736\n",
      "Epoch 118/500\n",
      "239/239 [==============================] - 0s 83us/sample - loss: nan - accuracy: 0.6736\n",
      "Epoch 119/500\n",
      "239/239 [==============================] - 0s 96us/sample - loss: nan - accuracy: 0.6736\n",
      "Epoch 120/500\n",
      "239/239 [==============================] - 0s 63us/sample - loss: nan - accuracy: 0.6736\n",
      "Epoch 121/500\n",
      "239/239 [==============================] - 0s 75us/sample - loss: nan - accuracy: 0.6736\n",
      "Epoch 122/500\n",
      "239/239 [==============================] - 0s 67us/sample - loss: nan - accuracy: 0.6736\n",
      "Epoch 123/500\n",
      "239/239 [==============================] - 0s 83us/sample - loss: nan - accuracy: 0.6736\n",
      "Epoch 124/500\n",
      "239/239 [==============================] - 0s 83us/sample - loss: nan - accuracy: 0.6736\n",
      "Epoch 125/500\n",
      "239/239 [==============================] - 0s 100us/sample - loss: nan - accuracy: 0.6736\n",
      "Epoch 126/500\n",
      "239/239 [==============================] - 0s 96us/sample - loss: nan - accuracy: 0.6736\n",
      "Epoch 127/500\n",
      "239/239 [==============================] - 0s 109us/sample - loss: nan - accuracy: 0.6736\n",
      "Epoch 128/500\n",
      "239/239 [==============================] - 0s 104us/sample - loss: nan - accuracy: 0.6736\n",
      "Epoch 129/500\n",
      "239/239 [==============================] - 0s 83us/sample - loss: nan - accuracy: 0.6736\n",
      "Epoch 130/500\n",
      "239/239 [==============================] - 0s 96us/sample - loss: nan - accuracy: 0.6736\n",
      "Epoch 131/500\n",
      "239/239 [==============================] - 0s 138us/sample - loss: nan - accuracy: 0.6736\n",
      "Epoch 132/500\n",
      "239/239 [==============================] - 0s 96us/sample - loss: nan - accuracy: 0.6736\n",
      "Epoch 133/500\n",
      "239/239 [==============================] - 0s 83us/sample - loss: nan - accuracy: 0.6736\n",
      "Epoch 134/500\n",
      "239/239 [==============================] - 0s 63us/sample - loss: nan - accuracy: 0.6736\n",
      "Epoch 135/500\n",
      "239/239 [==============================] - 0s 83us/sample - loss: nan - accuracy: 0.6736\n",
      "Epoch 136/500\n",
      "239/239 [==============================] - 0s 83us/sample - loss: nan - accuracy: 0.6736\n",
      "Epoch 137/500\n",
      "239/239 [==============================] - 0s 75us/sample - loss: nan - accuracy: 0.6736\n",
      "Epoch 138/500\n",
      "239/239 [==============================] - 0s 75us/sample - loss: nan - accuracy: 0.6736\n",
      "Epoch 139/500\n",
      "239/239 [==============================] - 0s 96us/sample - loss: nan - accuracy: 0.6736\n",
      "Epoch 140/500\n",
      "239/239 [==============================] - 0s 83us/sample - loss: nan - accuracy: 0.6736\n",
      "Epoch 141/500\n",
      "239/239 [==============================] - 0s 71us/sample - loss: nan - accuracy: 0.6736\n",
      "Epoch 142/500\n",
      "239/239 [==============================] - 0s 75us/sample - loss: nan - accuracy: 0.6736\n",
      "Epoch 143/500\n",
      "239/239 [==============================] - 0s 92us/sample - loss: nan - accuracy: 0.6736\n",
      "Epoch 144/500\n",
      "239/239 [==============================] - 0s 84us/sample - loss: nan - accuracy: 0.6736\n",
      "Epoch 145/500\n",
      "239/239 [==============================] - 0s 71us/sample - loss: nan - accuracy: 0.6736\n",
      "Epoch 146/500\n",
      "239/239 [==============================] - 0s 83us/sample - loss: nan - accuracy: 0.6736\n",
      "Epoch 147/500\n",
      "239/239 [==============================] - 0s 96us/sample - loss: nan - accuracy: 0.6736\n",
      "Epoch 148/500\n",
      "239/239 [==============================] - 0s 75us/sample - loss: nan - accuracy: 0.6736\n",
      "Epoch 149/500\n",
      "239/239 [==============================] - 0s 63us/sample - loss: nan - accuracy: 0.6736\n",
      "Epoch 150/500\n",
      "239/239 [==============================] - 0s 83us/sample - loss: nan - accuracy: 0.6736\n",
      "Epoch 151/500\n",
      "239/239 [==============================] - 0s 71us/sample - loss: nan - accuracy: 0.6736\n",
      "Epoch 152/500\n",
      "239/239 [==============================] - 0s 67us/sample - loss: nan - accuracy: 0.6736\n",
      "Epoch 153/500\n",
      "239/239 [==============================] - 0s 100us/sample - loss: nan - accuracy: 0.6736\n",
      "Epoch 154/500\n",
      "239/239 [==============================] - 0s 84us/sample - loss: nan - accuracy: 0.6736\n",
      "Epoch 155/500\n",
      "239/239 [==============================] - 0s 63us/sample - loss: nan - accuracy: 0.6736\n",
      "Epoch 156/500\n",
      "239/239 [==============================] - 0s 75us/sample - loss: nan - accuracy: 0.6736\n",
      "Epoch 157/500\n",
      "239/239 [==============================] - 0s 88us/sample - loss: nan - accuracy: 0.6736\n",
      "Epoch 158/500\n",
      "239/239 [==============================] - 0s 67us/sample - loss: nan - accuracy: 0.6736\n",
      "Epoch 159/500\n",
      "239/239 [==============================] - 0s 75us/sample - loss: nan - accuracy: 0.6736\n",
      "Epoch 160/500\n"
     ]
    },
    {
     "name": "stdout",
     "output_type": "stream",
     "text": [
      "239/239 [==============================] - 0s 83us/sample - loss: nan - accuracy: 0.6736\n",
      "Epoch 161/500\n",
      "239/239 [==============================] - 0s 63us/sample - loss: nan - accuracy: 0.6736\n",
      "Epoch 162/500\n",
      "239/239 [==============================] - 0s 79us/sample - loss: nan - accuracy: 0.6736\n",
      "Epoch 163/500\n",
      "239/239 [==============================] - 0s 92us/sample - loss: nan - accuracy: 0.6736\n",
      "Epoch 164/500\n",
      "239/239 [==============================] - 0s 79us/sample - loss: nan - accuracy: 0.6736\n",
      "Epoch 165/500\n",
      "239/239 [==============================] - 0s 71us/sample - loss: nan - accuracy: 0.6736\n",
      "Epoch 166/500\n",
      "239/239 [==============================] - 0s 88us/sample - loss: nan - accuracy: 0.6736\n",
      "Epoch 167/500\n",
      "239/239 [==============================] - 0s 92us/sample - loss: nan - accuracy: 0.6736\n",
      "Epoch 168/500\n",
      "239/239 [==============================] - 0s 79us/sample - loss: nan - accuracy: 0.6736\n",
      "Epoch 169/500\n",
      "239/239 [==============================] - 0s 92us/sample - loss: nan - accuracy: 0.6736\n",
      "Epoch 170/500\n",
      "239/239 [==============================] - 0s 88us/sample - loss: nan - accuracy: 0.6736\n",
      "Epoch 171/500\n",
      "239/239 [==============================] - 0s 92us/sample - loss: nan - accuracy: 0.6736\n",
      "Epoch 172/500\n",
      "239/239 [==============================] - 0s 83us/sample - loss: nan - accuracy: 0.6736\n",
      "Epoch 173/500\n",
      "239/239 [==============================] - 0s 92us/sample - loss: nan - accuracy: 0.6736\n",
      "Epoch 174/500\n",
      "239/239 [==============================] - 0s 83us/sample - loss: nan - accuracy: 0.6736\n",
      "Epoch 175/500\n",
      "239/239 [==============================] - 0s 88us/sample - loss: nan - accuracy: 0.6736\n",
      "Epoch 176/500\n",
      "239/239 [==============================] - 0s 71us/sample - loss: nan - accuracy: 0.6736\n",
      "Epoch 177/500\n",
      "239/239 [==============================] - 0s 92us/sample - loss: nan - accuracy: 0.6736\n",
      "Epoch 178/500\n",
      "239/239 [==============================] - 0s 92us/sample - loss: nan - accuracy: 0.6736\n",
      "Epoch 179/500\n",
      "239/239 [==============================] - 0s 75us/sample - loss: nan - accuracy: 0.6736\n",
      "Epoch 180/500\n",
      "239/239 [==============================] - 0s 96us/sample - loss: nan - accuracy: 0.6736\n",
      "Epoch 181/500\n",
      "239/239 [==============================] - 0s 79us/sample - loss: nan - accuracy: 0.6736\n",
      "Epoch 182/500\n",
      "239/239 [==============================] - 0s 92us/sample - loss: nan - accuracy: 0.6736\n",
      "Epoch 183/500\n",
      "239/239 [==============================] - 0s 83us/sample - loss: nan - accuracy: 0.6736\n",
      "Epoch 184/500\n",
      "239/239 [==============================] - 0s 104us/sample - loss: nan - accuracy: 0.6736\n",
      "Epoch 185/500\n",
      "239/239 [==============================] - 0s 100us/sample - loss: nan - accuracy: 0.6736\n",
      "Epoch 186/500\n",
      "239/239 [==============================] - 0s 92us/sample - loss: nan - accuracy: 0.6736\n",
      "Epoch 187/500\n",
      "239/239 [==============================] - 0s 75us/sample - loss: nan - accuracy: 0.6736\n",
      "Epoch 188/500\n",
      "239/239 [==============================] - 0s 79us/sample - loss: nan - accuracy: 0.6736\n",
      "Epoch 189/500\n",
      "239/239 [==============================] - 0s 92us/sample - loss: nan - accuracy: 0.6736\n",
      "Epoch 190/500\n",
      "239/239 [==============================] - 0s 67us/sample - loss: nan - accuracy: 0.6736\n",
      "Epoch 191/500\n",
      "239/239 [==============================] - 0s 79us/sample - loss: nan - accuracy: 0.6736\n",
      "Epoch 192/500\n",
      "239/239 [==============================] - 0s 88us/sample - loss: nan - accuracy: 0.6736\n",
      "Epoch 193/500\n",
      "239/239 [==============================] - 0s 92us/sample - loss: nan - accuracy: 0.6736\n",
      "Epoch 194/500\n",
      "239/239 [==============================] - 0s 92us/sample - loss: nan - accuracy: 0.6736\n",
      "Epoch 195/500\n",
      "239/239 [==============================] - 0s 113us/sample - loss: nan - accuracy: 0.6736\n",
      "Epoch 196/500\n",
      "239/239 [==============================] - 0s 83us/sample - loss: nan - accuracy: 0.6736\n",
      "Epoch 197/500\n",
      "239/239 [==============================] - 0s 88us/sample - loss: nan - accuracy: 0.6736\n",
      "Epoch 198/500\n",
      "239/239 [==============================] - 0s 71us/sample - loss: nan - accuracy: 0.6736\n",
      "Epoch 199/500\n",
      "239/239 [==============================] - 0s 92us/sample - loss: nan - accuracy: 0.6736\n",
      "Epoch 200/500\n",
      "239/239 [==============================] - ETA: 0s - loss: nan - accuracy: 0.687 - 0s 88us/sample - loss: nan - accuracy: 0.6736\n",
      "Epoch 201/500\n",
      "239/239 [==============================] - 0s 92us/sample - loss: nan - accuracy: 0.6736\n",
      "Epoch 202/500\n",
      "239/239 [==============================] - 0s 79us/sample - loss: nan - accuracy: 0.6736\n",
      "Epoch 203/500\n",
      "239/239 [==============================] - 0s 79us/sample - loss: nan - accuracy: 0.6736\n",
      "Epoch 204/500\n",
      "239/239 [==============================] - 0s 83us/sample - loss: nan - accuracy: 0.6736\n",
      "Epoch 205/500\n",
      "239/239 [==============================] - 0s 71us/sample - loss: nan - accuracy: 0.6736\n",
      "Epoch 206/500\n",
      "239/239 [==============================] - 0s 71us/sample - loss: nan - accuracy: 0.6736\n",
      "Epoch 207/500\n",
      "239/239 [==============================] - 0s 88us/sample - loss: nan - accuracy: 0.6736\n",
      "Epoch 208/500\n",
      "239/239 [==============================] - 0s 79us/sample - loss: nan - accuracy: 0.6736\n",
      "Epoch 209/500\n",
      "239/239 [==============================] - 0s 83us/sample - loss: nan - accuracy: 0.6736\n",
      "Epoch 210/500\n",
      "239/239 [==============================] - 0s 79us/sample - loss: nan - accuracy: 0.6736\n",
      "Epoch 211/500\n",
      "239/239 [==============================] - 0s 75us/sample - loss: nan - accuracy: 0.6736\n",
      "Epoch 212/500\n",
      "239/239 [==============================] - 0s 71us/sample - loss: nan - accuracy: 0.6736\n",
      "Epoch 213/500\n",
      "239/239 [==============================] - 0s 79us/sample - loss: nan - accuracy: 0.6736\n",
      "Epoch 214/500\n",
      "239/239 [==============================] - 0s 92us/sample - loss: nan - accuracy: 0.6736\n",
      "Epoch 215/500\n",
      "239/239 [==============================] - 0s 75us/sample - loss: nan - accuracy: 0.6736\n",
      "Epoch 216/500\n",
      "239/239 [==============================] - 0s 71us/sample - loss: nan - accuracy: 0.6736\n",
      "Epoch 217/500\n",
      "239/239 [==============================] - 0s 67us/sample - loss: nan - accuracy: 0.6736\n",
      "Epoch 218/500\n",
      "239/239 [==============================] - 0s 96us/sample - loss: nan - accuracy: 0.6736\n",
      "Epoch 219/500\n",
      "239/239 [==============================] - 0s 79us/sample - loss: nan - accuracy: 0.6736\n",
      "Epoch 220/500\n",
      "239/239 [==============================] - 0s 63us/sample - loss: nan - accuracy: 0.6736\n",
      "Epoch 221/500\n",
      "239/239 [==============================] - 0s 71us/sample - loss: nan - accuracy: 0.6736\n",
      "Epoch 222/500\n",
      "239/239 [==============================] - 0s 104us/sample - loss: nan - accuracy: 0.6736\n",
      "Epoch 223/500\n",
      "239/239 [==============================] - 0s 71us/sample - loss: nan - accuracy: 0.6736\n",
      "Epoch 224/500\n",
      "239/239 [==============================] - 0s 63us/sample - loss: nan - accuracy: 0.6736\n",
      "Epoch 225/500\n",
      "239/239 [==============================] - 0s 79us/sample - loss: nan - accuracy: 0.6736\n",
      "Epoch 226/500\n",
      "239/239 [==============================] - 0s 92us/sample - loss: nan - accuracy: 0.6736\n",
      "Epoch 227/500\n",
      "239/239 [==============================] - 0s 63us/sample - loss: nan - accuracy: 0.6736\n",
      "Epoch 228/500\n",
      "239/239 [==============================] - 0s 75us/sample - loss: nan - accuracy: 0.6736\n",
      "Epoch 229/500\n",
      "239/239 [==============================] - 0s 96us/sample - loss: nan - accuracy: 0.6736\n",
      "Epoch 230/500\n",
      "239/239 [==============================] - 0s 63us/sample - loss: nan - accuracy: 0.6736\n",
      "Epoch 231/500\n",
      "239/239 [==============================] - 0s 67us/sample - loss: nan - accuracy: 0.6736\n",
      "Epoch 232/500\n",
      "239/239 [==============================] - 0s 79us/sample - loss: nan - accuracy: 0.6736\n",
      "Epoch 233/500\n",
      "239/239 [==============================] - 0s 100us/sample - loss: nan - accuracy: 0.6736\n",
      "Epoch 234/500\n",
      "239/239 [==============================] - 0s 92us/sample - loss: nan - accuracy: 0.6736\n",
      "Epoch 235/500\n",
      "239/239 [==============================] - 0s 100us/sample - loss: nan - accuracy: 0.6736\n",
      "Epoch 236/500\n",
      "239/239 [==============================] - 0s 71us/sample - loss: nan - accuracy: 0.6736\n",
      "Epoch 237/500\n",
      "239/239 [==============================] - 0s 83us/sample - loss: nan - accuracy: 0.6736\n",
      "Epoch 238/500\n",
      "239/239 [==============================] - 0s 96us/sample - loss: nan - accuracy: 0.6736\n",
      "Epoch 239/500\n"
     ]
    },
    {
     "name": "stdout",
     "output_type": "stream",
     "text": [
      "239/239 [==============================] - 0s 75us/sample - loss: nan - accuracy: 0.6736\n",
      "Epoch 240/500\n",
      "239/239 [==============================] - 0s 67us/sample - loss: nan - accuracy: 0.6736\n",
      "Epoch 241/500\n",
      "239/239 [==============================] - 0s 75us/sample - loss: nan - accuracy: 0.6736\n",
      "Epoch 242/500\n",
      "239/239 [==============================] - 0s 83us/sample - loss: nan - accuracy: 0.6736\n",
      "Epoch 243/500\n",
      "239/239 [==============================] - 0s 92us/sample - loss: nan - accuracy: 0.6736\n",
      "Epoch 244/500\n",
      "239/239 [==============================] - 0s 100us/sample - loss: nan - accuracy: 0.6736\n",
      "Epoch 245/500\n",
      "239/239 [==============================] - 0s 88us/sample - loss: nan - accuracy: 0.6736\n",
      "Epoch 246/500\n",
      "239/239 [==============================] - 0s 104us/sample - loss: nan - accuracy: 0.6736\n",
      "Epoch 247/500\n",
      "239/239 [==============================] - 0s 92us/sample - loss: nan - accuracy: 0.6736\n",
      "Epoch 248/500\n",
      "239/239 [==============================] - 0s 108us/sample - loss: nan - accuracy: 0.6736\n",
      "Epoch 249/500\n",
      "239/239 [==============================] - 0s 88us/sample - loss: nan - accuracy: 0.6736\n",
      "Epoch 250/500\n",
      "239/239 [==============================] - 0s 83us/sample - loss: nan - accuracy: 0.6736\n",
      "Epoch 251/500\n",
      "239/239 [==============================] - 0s 96us/sample - loss: nan - accuracy: 0.6736\n",
      "Epoch 252/500\n",
      "239/239 [==============================] - 0s 100us/sample - loss: nan - accuracy: 0.6736\n",
      "Epoch 253/500\n",
      "239/239 [==============================] - 0s 88us/sample - loss: nan - accuracy: 0.6736\n",
      "Epoch 254/500\n",
      "239/239 [==============================] - 0s 96us/sample - loss: nan - accuracy: 0.6736\n",
      "Epoch 255/500\n",
      "239/239 [==============================] - 0s 83us/sample - loss: nan - accuracy: 0.6736\n",
      "Epoch 256/500\n",
      "239/239 [==============================] - 0s 96us/sample - loss: nan - accuracy: 0.6736\n",
      "Epoch 257/500\n",
      "239/239 [==============================] - 0s 83us/sample - loss: nan - accuracy: 0.6736\n",
      "Epoch 258/500\n",
      "239/239 [==============================] - 0s 67us/sample - loss: nan - accuracy: 0.6736\n",
      "Epoch 259/500\n",
      "239/239 [==============================] - 0s 79us/sample - loss: nan - accuracy: 0.6736\n",
      "Epoch 260/500\n",
      "239/239 [==============================] - 0s 75us/sample - loss: nan - accuracy: 0.6736\n",
      "Epoch 261/500\n",
      "239/239 [==============================] - 0s 92us/sample - loss: nan - accuracy: 0.6736\n",
      "Epoch 262/500\n",
      "239/239 [==============================] - 0s 104us/sample - loss: nan - accuracy: 0.6736\n",
      "Epoch 263/500\n",
      "239/239 [==============================] - 0s 92us/sample - loss: nan - accuracy: 0.6736\n",
      "Epoch 264/500\n",
      "239/239 [==============================] - 0s 92us/sample - loss: nan - accuracy: 0.6736\n",
      "Epoch 265/500\n",
      "239/239 [==============================] - 0s 88us/sample - loss: nan - accuracy: 0.6736\n",
      "Epoch 266/500\n",
      "239/239 [==============================] - 0s 96us/sample - loss: nan - accuracy: 0.6736\n",
      "Epoch 267/500\n",
      "239/239 [==============================] - 0s 79us/sample - loss: nan - accuracy: 0.6736\n",
      "Epoch 268/500\n",
      "239/239 [==============================] - 0s 96us/sample - loss: nan - accuracy: 0.6736\n",
      "Epoch 269/500\n",
      "239/239 [==============================] - 0s 92us/sample - loss: nan - accuracy: 0.6736\n",
      "Epoch 270/500\n",
      "239/239 [==============================] - 0s 88us/sample - loss: nan - accuracy: 0.6736\n",
      "Epoch 271/500\n",
      "239/239 [==============================] - 0s 100us/sample - loss: nan - accuracy: 0.6736\n",
      "Epoch 272/500\n",
      "239/239 [==============================] - 0s 96us/sample - loss: nan - accuracy: 0.6736\n",
      "Epoch 273/500\n",
      "239/239 [==============================] - 0s 75us/sample - loss: nan - accuracy: 0.6736\n",
      "Epoch 274/500\n",
      "239/239 [==============================] - 0s 79us/sample - loss: nan - accuracy: 0.6736\n",
      "Epoch 275/500\n",
      "239/239 [==============================] - 0s 75us/sample - loss: nan - accuracy: 0.6736\n",
      "Epoch 276/500\n",
      "239/239 [==============================] - ETA: 0s - loss: nan - accuracy: 0.687 - 0s 96us/sample - loss: nan - accuracy: 0.6736\n",
      "Epoch 277/500\n",
      "239/239 [==============================] - 0s 83us/sample - loss: nan - accuracy: 0.6736\n",
      "Epoch 278/500\n",
      "239/239 [==============================] - 0s 83us/sample - loss: nan - accuracy: 0.6736\n",
      "Epoch 279/500\n",
      "239/239 [==============================] - 0s 100us/sample - loss: nan - accuracy: 0.6736\n",
      "Epoch 280/500\n",
      "239/239 [==============================] - 0s 92us/sample - loss: nan - accuracy: 0.6736\n",
      "Epoch 281/500\n",
      "239/239 [==============================] - 0s 71us/sample - loss: nan - accuracy: 0.6736\n",
      "Epoch 282/500\n",
      "239/239 [==============================] - 0s 71us/sample - loss: nan - accuracy: 0.6736\n",
      "Epoch 283/500\n",
      "239/239 [==============================] - 0s 83us/sample - loss: nan - accuracy: 0.6736\n",
      "Epoch 284/500\n",
      "239/239 [==============================] - 0s 79us/sample - loss: nan - accuracy: 0.6736\n",
      "Epoch 285/500\n",
      "239/239 [==============================] - 0s 88us/sample - loss: nan - accuracy: 0.6736\n",
      "Epoch 286/500\n",
      "239/239 [==============================] - 0s 88us/sample - loss: nan - accuracy: 0.6736\n",
      "Epoch 287/500\n",
      "239/239 [==============================] - 0s 88us/sample - loss: nan - accuracy: 0.6736\n",
      "Epoch 288/500\n",
      "239/239 [==============================] - 0s 75us/sample - loss: nan - accuracy: 0.6736\n",
      "Epoch 289/500\n",
      "239/239 [==============================] - 0s 88us/sample - loss: nan - accuracy: 0.6736\n",
      "Epoch 290/500\n",
      "239/239 [==============================] - 0s 96us/sample - loss: nan - accuracy: 0.6736\n",
      "Epoch 291/500\n",
      "239/239 [==============================] - 0s 88us/sample - loss: nan - accuracy: 0.6736\n",
      "Epoch 292/500\n",
      "239/239 [==============================] - 0s 79us/sample - loss: nan - accuracy: 0.6736\n",
      "Epoch 293/500\n",
      "239/239 [==============================] - 0s 88us/sample - loss: nan - accuracy: 0.6736\n",
      "Epoch 294/500\n",
      "239/239 [==============================] - 0s 71us/sample - loss: nan - accuracy: 0.6736\n",
      "Epoch 295/500\n",
      "239/239 [==============================] - 0s 75us/sample - loss: nan - accuracy: 0.6736\n",
      "Epoch 296/500\n",
      "239/239 [==============================] - 0s 88us/sample - loss: nan - accuracy: 0.6736\n",
      "Epoch 297/500\n",
      "239/239 [==============================] - 0s 96us/sample - loss: nan - accuracy: 0.6736\n",
      "Epoch 298/500\n",
      "239/239 [==============================] - 0s 79us/sample - loss: nan - accuracy: 0.6736\n",
      "Epoch 299/500\n",
      "239/239 [==============================] - 0s 71us/sample - loss: nan - accuracy: 0.6736\n",
      "Epoch 300/500\n",
      "239/239 [==============================] - 0s 75us/sample - loss: nan - accuracy: 0.6736\n",
      "Epoch 301/500\n",
      "239/239 [==============================] - 0s 96us/sample - loss: nan - accuracy: 0.6736\n",
      "Epoch 302/500\n",
      "239/239 [==============================] - 0s 75us/sample - loss: nan - accuracy: 0.6736\n",
      "Epoch 303/500\n",
      "239/239 [==============================] - 0s 71us/sample - loss: nan - accuracy: 0.6736\n",
      "Epoch 304/500\n",
      "239/239 [==============================] - 0s 100us/sample - loss: nan - accuracy: 0.6736\n",
      "Epoch 305/500\n",
      "239/239 [==============================] - 0s 88us/sample - loss: nan - accuracy: 0.6736\n",
      "Epoch 306/500\n",
      "239/239 [==============================] - 0s 75us/sample - loss: nan - accuracy: 0.6736\n",
      "Epoch 307/500\n",
      "239/239 [==============================] - 0s 63us/sample - loss: nan - accuracy: 0.6736\n",
      "Epoch 308/500\n",
      "239/239 [==============================] - 0s 83us/sample - loss: nan - accuracy: 0.6736\n",
      "Epoch 309/500\n",
      "239/239 [==============================] - 0s 121us/sample - loss: nan - accuracy: 0.6736\n",
      "Epoch 310/500\n",
      "239/239 [==============================] - 0s 96us/sample - loss: nan - accuracy: 0.6736\n",
      "Epoch 311/500\n",
      "239/239 [==============================] - 0s 63us/sample - loss: nan - accuracy: 0.6736\n",
      "Epoch 312/500\n",
      "239/239 [==============================] - 0s 88us/sample - loss: nan - accuracy: 0.6736\n",
      "Epoch 313/500\n",
      "239/239 [==============================] - 0s 79us/sample - loss: nan - accuracy: 0.6736\n",
      "Epoch 314/500\n",
      "239/239 [==============================] - 0s 109us/sample - loss: nan - accuracy: 0.6736\n",
      "Epoch 315/500\n",
      "239/239 [==============================] - 0s 79us/sample - loss: nan - accuracy: 0.6736\n",
      "Epoch 316/500\n",
      "239/239 [==============================] - 0s 88us/sample - loss: nan - accuracy: 0.6736\n",
      "Epoch 317/500\n",
      "239/239 [==============================] - 0s 63us/sample - loss: nan - accuracy: 0.6736\n",
      "Epoch 318/500\n"
     ]
    },
    {
     "name": "stdout",
     "output_type": "stream",
     "text": [
      "239/239 [==============================] - 0s 92us/sample - loss: nan - accuracy: 0.6736\n",
      "Epoch 319/500\n",
      "239/239 [==============================] - 0s 67us/sample - loss: nan - accuracy: 0.6736\n",
      "Epoch 320/500\n",
      "239/239 [==============================] - 0s 88us/sample - loss: nan - accuracy: 0.6736\n",
      "Epoch 321/500\n",
      "239/239 [==============================] - 0s 63us/sample - loss: nan - accuracy: 0.6736\n",
      "Epoch 322/500\n",
      "239/239 [==============================] - 0s 83us/sample - loss: nan - accuracy: 0.6736\n",
      "Epoch 323/500\n",
      "239/239 [==============================] - 0s 104us/sample - loss: nan - accuracy: 0.6736\n",
      "Epoch 324/500\n",
      "239/239 [==============================] - 0s 92us/sample - loss: nan - accuracy: 0.6736\n",
      "Epoch 325/500\n",
      "239/239 [==============================] - 0s 96us/sample - loss: nan - accuracy: 0.6736\n",
      "Epoch 326/500\n",
      "239/239 [==============================] - 0s 92us/sample - loss: nan - accuracy: 0.6736\n",
      "Epoch 327/500\n",
      "239/239 [==============================] - 0s 96us/sample - loss: nan - accuracy: 0.6736\n",
      "Epoch 328/500\n",
      "239/239 [==============================] - 0s 88us/sample - loss: nan - accuracy: 0.6736\n",
      "Epoch 329/500\n",
      "239/239 [==============================] - 0s 96us/sample - loss: nan - accuracy: 0.6736\n",
      "Epoch 330/500\n",
      "239/239 [==============================] - 0s 100us/sample - loss: nan - accuracy: 0.6736\n",
      "Epoch 331/500\n",
      "239/239 [==============================] - 0s 83us/sample - loss: nan - accuracy: 0.6736\n",
      "Epoch 332/500\n",
      "239/239 [==============================] - 0s 108us/sample - loss: nan - accuracy: 0.6736\n",
      "Epoch 333/500\n",
      "239/239 [==============================] - 0s 100us/sample - loss: nan - accuracy: 0.6736\n",
      "Epoch 334/500\n",
      "239/239 [==============================] - 0s 88us/sample - loss: nan - accuracy: 0.6736\n",
      "Epoch 335/500\n",
      "239/239 [==============================] - 0s 71us/sample - loss: nan - accuracy: 0.6736\n",
      "Epoch 336/500\n",
      "239/239 [==============================] - 0s 79us/sample - loss: nan - accuracy: 0.6736\n",
      "Epoch 337/500\n",
      "239/239 [==============================] - 0s 88us/sample - loss: nan - accuracy: 0.6736\n",
      "Epoch 338/500\n",
      "239/239 [==============================] - 0s 79us/sample - loss: nan - accuracy: 0.6736\n",
      "Epoch 339/500\n",
      "239/239 [==============================] - 0s 83us/sample - loss: nan - accuracy: 0.6736\n",
      "Epoch 340/500\n",
      "239/239 [==============================] - 0s 104us/sample - loss: nan - accuracy: 0.6736\n",
      "Epoch 341/500\n",
      "239/239 [==============================] - 0s 79us/sample - loss: nan - accuracy: 0.6736\n",
      "Epoch 342/500\n",
      "239/239 [==============================] - 0s 92us/sample - loss: nan - accuracy: 0.6736\n",
      "Epoch 343/500\n",
      "239/239 [==============================] - 0s 88us/sample - loss: nan - accuracy: 0.6736\n",
      "Epoch 344/500\n",
      "239/239 [==============================] - 0s 75us/sample - loss: nan - accuracy: 0.6736\n",
      "Epoch 345/500\n",
      "239/239 [==============================] - 0s 67us/sample - loss: nan - accuracy: 0.6736\n",
      "Epoch 346/500\n",
      "239/239 [==============================] - 0s 75us/sample - loss: nan - accuracy: 0.6736\n",
      "Epoch 347/500\n",
      "239/239 [==============================] - 0s 83us/sample - loss: nan - accuracy: 0.6736\n",
      "Epoch 348/500\n",
      "239/239 [==============================] - 0s 100us/sample - loss: nan - accuracy: 0.6736\n",
      "Epoch 349/500\n",
      "239/239 [==============================] - 0s 79us/sample - loss: nan - accuracy: 0.6736\n",
      "Epoch 350/500\n",
      "239/239 [==============================] - 0s 88us/sample - loss: nan - accuracy: 0.6736\n",
      "Epoch 351/500\n",
      "239/239 [==============================] - 0s 63us/sample - loss: nan - accuracy: 0.6736\n",
      "Epoch 352/500\n",
      "239/239 [==============================] - 0s 88us/sample - loss: nan - accuracy: 0.6736\n",
      "Epoch 353/500\n",
      "239/239 [==============================] - 0s 79us/sample - loss: nan - accuracy: 0.6736\n",
      "Epoch 354/500\n",
      "239/239 [==============================] - 0s 92us/sample - loss: nan - accuracy: 0.6736\n",
      "Epoch 355/500\n",
      "239/239 [==============================] - 0s 92us/sample - loss: nan - accuracy: 0.6736\n",
      "Epoch 356/500\n",
      "239/239 [==============================] - 0s 88us/sample - loss: nan - accuracy: 0.6736\n",
      "Epoch 357/500\n",
      "239/239 [==============================] - 0s 71us/sample - loss: nan - accuracy: 0.6736\n",
      "Epoch 358/500\n",
      "239/239 [==============================] - 0s 75us/sample - loss: nan - accuracy: 0.6736\n",
      "Epoch 359/500\n",
      "239/239 [==============================] - 0s 71us/sample - loss: nan - accuracy: 0.6736\n",
      "Epoch 360/500\n",
      "239/239 [==============================] - 0s 88us/sample - loss: nan - accuracy: 0.6736\n",
      "Epoch 361/500\n",
      "239/239 [==============================] - 0s 83us/sample - loss: nan - accuracy: 0.6736\n",
      "Epoch 362/500\n",
      "239/239 [==============================] - 0s 88us/sample - loss: nan - accuracy: 0.6736\n",
      "Epoch 363/500\n",
      "239/239 [==============================] - 0s 71us/sample - loss: nan - accuracy: 0.6736\n",
      "Epoch 364/500\n",
      "239/239 [==============================] - 0s 79us/sample - loss: nan - accuracy: 0.6736\n",
      "Epoch 365/500\n",
      "239/239 [==============================] - 0s 83us/sample - loss: nan - accuracy: 0.6736\n",
      "Epoch 366/500\n",
      "239/239 [==============================] - 0s 88us/sample - loss: nan - accuracy: 0.6736\n",
      "Epoch 367/500\n",
      "239/239 [==============================] - 0s 117us/sample - loss: nan - accuracy: 0.6736\n",
      "Epoch 368/500\n",
      "239/239 [==============================] - 0s 88us/sample - loss: nan - accuracy: 0.6736\n",
      "Epoch 369/500\n",
      "239/239 [==============================] - 0s 71us/sample - loss: nan - accuracy: 0.6736\n",
      "Epoch 370/500\n",
      "239/239 [==============================] - 0s 83us/sample - loss: nan - accuracy: 0.6736\n",
      "Epoch 371/500\n",
      "239/239 [==============================] - 0s 83us/sample - loss: nan - accuracy: 0.6736\n",
      "Epoch 372/500\n",
      "239/239 [==============================] - 0s 92us/sample - loss: nan - accuracy: 0.6736\n",
      "Epoch 373/500\n",
      "239/239 [==============================] - 0s 83us/sample - loss: nan - accuracy: 0.6736\n",
      "Epoch 374/500\n",
      "239/239 [==============================] - 0s 92us/sample - loss: nan - accuracy: 0.6736\n",
      "Epoch 375/500\n",
      "239/239 [==============================] - 0s 92us/sample - loss: nan - accuracy: 0.6736\n",
      "Epoch 376/500\n",
      "239/239 [==============================] - 0s 75us/sample - loss: nan - accuracy: 0.6736\n",
      "Epoch 377/500\n",
      "239/239 [==============================] - 0s 75us/sample - loss: nan - accuracy: 0.6736\n",
      "Epoch 378/500\n",
      "239/239 [==============================] - 0s 88us/sample - loss: nan - accuracy: 0.6736\n",
      "Epoch 379/500\n",
      "239/239 [==============================] - 0s 88us/sample - loss: nan - accuracy: 0.6736\n",
      "Epoch 380/500\n",
      "239/239 [==============================] - 0s 96us/sample - loss: nan - accuracy: 0.6736\n",
      "Epoch 381/500\n",
      "239/239 [==============================] - 0s 92us/sample - loss: nan - accuracy: 0.6736\n",
      "Epoch 382/500\n",
      "239/239 [==============================] - 0s 71us/sample - loss: nan - accuracy: 0.6736\n",
      "Epoch 383/500\n",
      "239/239 [==============================] - 0s 75us/sample - loss: nan - accuracy: 0.6736\n",
      "Epoch 384/500\n",
      "239/239 [==============================] - 0s 83us/sample - loss: nan - accuracy: 0.6736\n",
      "Epoch 385/500\n",
      "239/239 [==============================] - 0s 92us/sample - loss: nan - accuracy: 0.6736\n",
      "Epoch 386/500\n",
      "239/239 [==============================] - 0s 83us/sample - loss: nan - accuracy: 0.6736\n",
      "Epoch 387/500\n",
      "239/239 [==============================] - 0s 62us/sample - loss: nan - accuracy: 0.6736\n",
      "Epoch 388/500\n",
      "239/239 [==============================] - 0s 83us/sample - loss: nan - accuracy: 0.6736\n",
      "Epoch 389/500\n",
      "239/239 [==============================] - 0s 100us/sample - loss: nan - accuracy: 0.6736\n",
      "Epoch 390/500\n",
      "239/239 [==============================] - 0s 63us/sample - loss: nan - accuracy: 0.6736\n",
      "Epoch 391/500\n",
      "239/239 [==============================] - 0s 71us/sample - loss: nan - accuracy: 0.6736\n",
      "Epoch 392/500\n",
      "239/239 [==============================] - 0s 79us/sample - loss: nan - accuracy: 0.6736\n",
      "Epoch 393/500\n",
      "239/239 [==============================] - 0s 79us/sample - loss: nan - accuracy: 0.6736\n",
      "Epoch 394/500\n",
      "239/239 [==============================] - 0s 88us/sample - loss: nan - accuracy: 0.6736\n",
      "Epoch 395/500\n",
      "239/239 [==============================] - 0s 67us/sample - loss: nan - accuracy: 0.6736\n",
      "Epoch 396/500\n",
      "239/239 [==============================] - 0s 75us/sample - loss: nan - accuracy: 0.6736\n",
      "Epoch 397/500\n"
     ]
    },
    {
     "name": "stdout",
     "output_type": "stream",
     "text": [
      "239/239 [==============================] - 0s 92us/sample - loss: nan - accuracy: 0.6736\n",
      "Epoch 398/500\n",
      "239/239 [==============================] - 0s 88us/sample - loss: nan - accuracy: 0.6736\n",
      "Epoch 399/500\n",
      "239/239 [==============================] - 0s 67us/sample - loss: nan - accuracy: 0.6736\n",
      "Epoch 400/500\n",
      "239/239 [==============================] - 0s 75us/sample - loss: nan - accuracy: 0.6736\n",
      "Epoch 401/500\n",
      "239/239 [==============================] - 0s 96us/sample - loss: nan - accuracy: 0.6736\n",
      "Epoch 402/500\n",
      "239/239 [==============================] - 0s 83us/sample - loss: nan - accuracy: 0.6736\n",
      "Epoch 403/500\n",
      "239/239 [==============================] - 0s 96us/sample - loss: nan - accuracy: 0.6736\n",
      "Epoch 404/500\n",
      "239/239 [==============================] - 0s 100us/sample - loss: nan - accuracy: 0.6736\n",
      "Epoch 405/500\n",
      "239/239 [==============================] - 0s 92us/sample - loss: nan - accuracy: 0.6736\n",
      "Epoch 406/500\n",
      "239/239 [==============================] - 0s 92us/sample - loss: nan - accuracy: 0.6736\n",
      "Epoch 407/500\n",
      "239/239 [==============================] - 0s 92us/sample - loss: nan - accuracy: 0.6736\n",
      "Epoch 408/500\n",
      "239/239 [==============================] - 0s 100us/sample - loss: nan - accuracy: 0.6736\n",
      "Epoch 409/500\n",
      "239/239 [==============================] - 0s 88us/sample - loss: nan - accuracy: 0.6736\n",
      "Epoch 410/500\n",
      "239/239 [==============================] - 0s 104us/sample - loss: nan - accuracy: 0.6736\n",
      "Epoch 411/500\n",
      "239/239 [==============================] - 0s 83us/sample - loss: nan - accuracy: 0.6736\n",
      "Epoch 412/500\n",
      "239/239 [==============================] - 0s 104us/sample - loss: nan - accuracy: 0.6736\n",
      "Epoch 413/500\n",
      "239/239 [==============================] - 0s 79us/sample - loss: nan - accuracy: 0.6736\n",
      "Epoch 414/500\n",
      "239/239 [==============================] - 0s 96us/sample - loss: nan - accuracy: 0.6736\n",
      "Epoch 415/500\n",
      "239/239 [==============================] - 0s 88us/sample - loss: nan - accuracy: 0.6736\n",
      "Epoch 416/500\n",
      "239/239 [==============================] - 0s 88us/sample - loss: nan - accuracy: 0.6736\n",
      "Epoch 417/500\n",
      "239/239 [==============================] - 0s 88us/sample - loss: nan - accuracy: 0.6736\n",
      "Epoch 418/500\n",
      "239/239 [==============================] - 0s 83us/sample - loss: nan - accuracy: 0.6736\n",
      "Epoch 419/500\n",
      "239/239 [==============================] - 0s 92us/sample - loss: nan - accuracy: 0.6736\n",
      "Epoch 420/500\n",
      "239/239 [==============================] - 0s 92us/sample - loss: nan - accuracy: 0.6736\n",
      "Epoch 421/500\n",
      "239/239 [==============================] - 0s 100us/sample - loss: nan - accuracy: 0.6736\n",
      "Epoch 422/500\n",
      "239/239 [==============================] - 0s 79us/sample - loss: nan - accuracy: 0.6736\n",
      "Epoch 423/500\n",
      "239/239 [==============================] - 0s 71us/sample - loss: nan - accuracy: 0.6736\n",
      "Epoch 424/500\n",
      "239/239 [==============================] - 0s 75us/sample - loss: nan - accuracy: 0.6736\n",
      "Epoch 425/500\n",
      "239/239 [==============================] - 0s 79us/sample - loss: nan - accuracy: 0.6736\n",
      "Epoch 426/500\n",
      "239/239 [==============================] - 0s 79us/sample - loss: nan - accuracy: 0.6736\n",
      "Epoch 427/500\n",
      "239/239 [==============================] - 0s 92us/sample - loss: nan - accuracy: 0.6736\n",
      "Epoch 428/500\n",
      "239/239 [==============================] - 0s 92us/sample - loss: nan - accuracy: 0.6736\n",
      "Epoch 429/500\n",
      "239/239 [==============================] - 0s 100us/sample - loss: nan - accuracy: 0.6736\n",
      "Epoch 430/500\n",
      "239/239 [==============================] - 0s 83us/sample - loss: nan - accuracy: 0.6736\n",
      "Epoch 431/500\n",
      "239/239 [==============================] - 0s 67us/sample - loss: nan - accuracy: 0.6736\n",
      "Epoch 432/500\n",
      "239/239 [==============================] - 0s 83us/sample - loss: nan - accuracy: 0.6736\n",
      "Epoch 433/500\n",
      "239/239 [==============================] - 0s 100us/sample - loss: nan - accuracy: 0.6736\n",
      "Epoch 434/500\n",
      "239/239 [==============================] - 0s 96us/sample - loss: nan - accuracy: 0.6736\n",
      "Epoch 435/500\n",
      "239/239 [==============================] - 0s 108us/sample - loss: nan - accuracy: 0.6736\n",
      "Epoch 436/500\n",
      "239/239 [==============================] - 0s 71us/sample - loss: nan - accuracy: 0.6736\n",
      "Epoch 437/500\n",
      "239/239 [==============================] - 0s 83us/sample - loss: nan - accuracy: 0.6736\n",
      "Epoch 438/500\n",
      "239/239 [==============================] - 0s 100us/sample - loss: nan - accuracy: 0.6736\n",
      "Epoch 439/500\n",
      "239/239 [==============================] - 0s 92us/sample - loss: nan - accuracy: 0.6736\n",
      "Epoch 440/500\n",
      "239/239 [==============================] - 0s 67us/sample - loss: nan - accuracy: 0.6736\n",
      "Epoch 441/500\n",
      "239/239 [==============================] - 0s 88us/sample - loss: nan - accuracy: 0.6736\n",
      "Epoch 442/500\n",
      "239/239 [==============================] - 0s 88us/sample - loss: nan - accuracy: 0.6736\n",
      "Epoch 443/500\n",
      "239/239 [==============================] - 0s 92us/sample - loss: nan - accuracy: 0.6736\n",
      "Epoch 444/500\n",
      "239/239 [==============================] - 0s 75us/sample - loss: nan - accuracy: 0.6736\n",
      "Epoch 445/500\n",
      "239/239 [==============================] - 0s 92us/sample - loss: nan - accuracy: 0.6736\n",
      "Epoch 446/500\n",
      "239/239 [==============================] - 0s 79us/sample - loss: nan - accuracy: 0.6736\n",
      "Epoch 447/500\n",
      "239/239 [==============================] - 0s 75us/sample - loss: nan - accuracy: 0.6736\n",
      "Epoch 448/500\n",
      "239/239 [==============================] - 0s 83us/sample - loss: nan - accuracy: 0.6736\n",
      "Epoch 449/500\n",
      "239/239 [==============================] - 0s 100us/sample - loss: nan - accuracy: 0.6736\n",
      "Epoch 450/500\n",
      "239/239 [==============================] - 0s 88us/sample - loss: nan - accuracy: 0.6736\n",
      "Epoch 451/500\n",
      "239/239 [==============================] - 0s 71us/sample - loss: nan - accuracy: 0.6736\n",
      "Epoch 452/500\n",
      "239/239 [==============================] - 0s 75us/sample - loss: nan - accuracy: 0.6736\n",
      "Epoch 453/500\n",
      "239/239 [==============================] - 0s 83us/sample - loss: nan - accuracy: 0.6736\n",
      "Epoch 454/500\n",
      "239/239 [==============================] - 0s 88us/sample - loss: nan - accuracy: 0.6736\n",
      "Epoch 455/500\n",
      "239/239 [==============================] - 0s 58us/sample - loss: nan - accuracy: 0.6736\n",
      "Epoch 456/500\n",
      "239/239 [==============================] - 0s 79us/sample - loss: nan - accuracy: 0.6736\n",
      "Epoch 457/500\n",
      "239/239 [==============================] - 0s 83us/sample - loss: nan - accuracy: 0.6736\n",
      "Epoch 458/500\n",
      "239/239 [==============================] - 0s 92us/sample - loss: nan - accuracy: 0.6736\n",
      "Epoch 459/500\n",
      "239/239 [==============================] - 0s 75us/sample - loss: nan - accuracy: 0.6736\n",
      "Epoch 460/500\n",
      "239/239 [==============================] - 0s 67us/sample - loss: nan - accuracy: 0.6736\n",
      "Epoch 461/500\n",
      "239/239 [==============================] - 0s 79us/sample - loss: nan - accuracy: 0.6736\n",
      "Epoch 462/500\n",
      "239/239 [==============================] - 0s 92us/sample - loss: nan - accuracy: 0.6736\n",
      "Epoch 463/500\n",
      "239/239 [==============================] - 0s 100us/sample - loss: nan - accuracy: 0.6736\n",
      "Epoch 464/500\n",
      "239/239 [==============================] - 0s 71us/sample - loss: nan - accuracy: 0.6736\n",
      "Epoch 465/500\n",
      "239/239 [==============================] - 0s 67us/sample - loss: nan - accuracy: 0.6736\n",
      "Epoch 466/500\n",
      "239/239 [==============================] - 0s 79us/sample - loss: nan - accuracy: 0.6736\n",
      "Epoch 467/500\n",
      "239/239 [==============================] - 0s 92us/sample - loss: nan - accuracy: 0.6736\n",
      "Epoch 468/500\n",
      "239/239 [==============================] - 0s 71us/sample - loss: nan - accuracy: 0.6736\n",
      "Epoch 469/500\n",
      "239/239 [==============================] - 0s 79us/sample - loss: nan - accuracy: 0.6736\n",
      "Epoch 470/500\n",
      "239/239 [==============================] - 0s 96us/sample - loss: nan - accuracy: 0.6736\n",
      "Epoch 471/500\n",
      "239/239 [==============================] - 0s 79us/sample - loss: nan - accuracy: 0.6736\n",
      "Epoch 472/500\n",
      "239/239 [==============================] - 0s 71us/sample - loss: nan - accuracy: 0.6736\n",
      "Epoch 473/500\n",
      "239/239 [==============================] - 0s 75us/sample - loss: nan - accuracy: 0.6736\n",
      "Epoch 474/500\n",
      "239/239 [==============================] - 0s 100us/sample - loss: nan - accuracy: 0.6736\n",
      "Epoch 475/500\n",
      "239/239 [==============================] - 0s 84us/sample - loss: nan - accuracy: 0.6736\n",
      "Epoch 476/500\n"
     ]
    },
    {
     "name": "stdout",
     "output_type": "stream",
     "text": [
      "239/239 [==============================] - 0s 67us/sample - loss: nan - accuracy: 0.6736\n",
      "Epoch 477/500\n",
      "239/239 [==============================] - 0s 75us/sample - loss: nan - accuracy: 0.6736\n",
      "Epoch 478/500\n",
      "239/239 [==============================] - 0s 88us/sample - loss: nan - accuracy: 0.6736\n",
      "Epoch 479/500\n",
      "239/239 [==============================] - 0s 92us/sample - loss: nan - accuracy: 0.6736\n",
      "Epoch 480/500\n",
      "239/239 [==============================] - 0s 67us/sample - loss: nan - accuracy: 0.6736\n",
      "Epoch 481/500\n",
      "239/239 [==============================] - 0s 83us/sample - loss: nan - accuracy: 0.6736\n",
      "Epoch 482/500\n",
      "239/239 [==============================] - 0s 75us/sample - loss: nan - accuracy: 0.6736\n",
      "Epoch 483/500\n",
      "239/239 [==============================] - 0s 92us/sample - loss: nan - accuracy: 0.6736\n",
      "Epoch 484/500\n",
      "239/239 [==============================] - 0s 71us/sample - loss: nan - accuracy: 0.6736\n",
      "Epoch 485/500\n",
      "239/239 [==============================] - 0s 88us/sample - loss: nan - accuracy: 0.6736\n",
      "Epoch 486/500\n",
      "239/239 [==============================] - 0s 79us/sample - loss: nan - accuracy: 0.6736\n",
      "Epoch 487/500\n",
      "239/239 [==============================] - 0s 88us/sample - loss: nan - accuracy: 0.6736\n",
      "Epoch 488/500\n",
      "239/239 [==============================] - 0s 92us/sample - loss: nan - accuracy: 0.6736\n",
      "Epoch 489/500\n",
      "239/239 [==============================] - 0s 79us/sample - loss: nan - accuracy: 0.6736\n",
      "Epoch 490/500\n",
      "239/239 [==============================] - 0s 75us/sample - loss: nan - accuracy: 0.6736\n",
      "Epoch 491/500\n",
      "239/239 [==============================] - 0s 79us/sample - loss: nan - accuracy: 0.6736\n",
      "Epoch 492/500\n",
      "239/239 [==============================] - 0s 75us/sample - loss: nan - accuracy: 0.6736\n",
      "Epoch 493/500\n",
      "239/239 [==============================] - 0s 88us/sample - loss: nan - accuracy: 0.6736\n",
      "Epoch 494/500\n",
      "239/239 [==============================] - 0s 96us/sample - loss: nan - accuracy: 0.6736\n",
      "Epoch 495/500\n",
      "239/239 [==============================] - 0s 75us/sample - loss: nan - accuracy: 0.6736\n",
      "Epoch 496/500\n",
      "239/239 [==============================] - ETA: 0s - loss: nan - accuracy: 0.750 - 0s 88us/sample - loss: nan - accuracy: 0.6736\n",
      "Epoch 497/500\n",
      "239/239 [==============================] - 0s 92us/sample - loss: nan - accuracy: 0.6736\n",
      "Epoch 498/500\n",
      "239/239 [==============================] - 0s 100us/sample - loss: nan - accuracy: 0.6736\n",
      "Epoch 499/500\n",
      "239/239 [==============================] - 0s 88us/sample - loss: nan - accuracy: 0.6736\n",
      "Epoch 500/500\n",
      "239/239 [==============================] - 0s 88us/sample - loss: nan - accuracy: 0.6736\n"
     ]
    },
    {
     "data": {
      "text/plain": [
       "<tensorflow.python.keras.callbacks.History at 0x2054a8445c8>"
      ]
     },
     "execution_count": 89,
     "metadata": {},
     "output_type": "execute_result"
    }
   ],
   "source": [
    "model.fit(X_train, y_train, epochs=500)"
   ]
  },
  {
   "cell_type": "markdown",
   "metadata": {},
   "source": [
    "### Evaluate the model loss and accuracy"
   ]
  },
  {
   "cell_type": "code",
   "execution_count": 90,
   "metadata": {},
   "outputs": [
    {
     "name": "stdout",
     "output_type": "stream",
     "text": [
      "60/60 - 0s - loss: nan - accuracy: 0.7000\n"
     ]
    }
   ],
   "source": [
    "test_loss, test_acc = model.evaluate(X_test, y_test, verbose=2)"
   ]
  }
 ],
 "metadata": {
  "kernelspec": {
   "display_name": "Python 3",
   "language": "python",
   "name": "python3"
  },
  "language_info": {
   "codemirror_mode": {
    "name": "ipython",
    "version": 3
   },
   "file_extension": ".py",
   "mimetype": "text/x-python",
   "name": "python",
   "nbconvert_exporter": "python",
   "pygments_lexer": "ipython3",
   "version": "3.7.4"
  }
 },
 "nbformat": 4,
 "nbformat_minor": 2
}
